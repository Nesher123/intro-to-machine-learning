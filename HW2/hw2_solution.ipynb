{
  "nbformat": 4,
  "nbformat_minor": 0,
  "metadata": {
    "celltoolbar": "Create Assignment",
    "kernelspec": {
      "display_name": "Python 3",
      "language": "python",
      "name": "python3"
    },
    "language_info": {
      "codemirror_mode": {
        "name": "ipython",
        "version": 3
      },
      "file_extension": ".py",
      "mimetype": "text/x-python",
      "name": "python",
      "nbconvert_exporter": "python",
      "pygments_lexer": "ipython3",
      "version": "3.9.2"
    },
    "colab": {
      "name": "hw2_204502926_204945323.ipynb",
      "provenance": [],
      "collapsed_sections": []
    }
  },
  "cells": [
    {
      "cell_type": "markdown",
      "metadata": {
        "nbgrader": {
          "grade": false,
          "grade_id": "cell-6bd0516e7cb654f5",
          "locked": true,
          "schema_version": 1,
          "solution": false
        },
        "id": "tV58SzIACI9i"
      },
      "source": [
        "# Exercise 2: Decision Trees\n",
        "\n",
        "In this assignment you will implement a Decision Tree algorithm as learned in class.\n",
        "\n",
        "## Read the following instructions carefully:\n",
        "\n",
        "1. This jupyter notebook contains all the step by step instructions needed for this exercise.\n",
        "1. Submission includes this notebook only with the exercise number and your ID as the filename. For example: `hw2_123456789_987654321.ipynb` if you submitted in pairs and `hw2_123456789.ipynb` if you submitted the exercise alone.\n",
        "1. Write **efficient vectorized** code whenever possible. Some calculations in this exercise take several minutes when implemented efficiently, and might take much longer otherwise. Unnecessary loops will result in point deduction.\n",
        "1. You are responsible for the correctness of your code and should add as many tests as you see fit. Tests will not be graded nor checked.\n",
        "1. Write your functions in this notebook only. **Do not create Python modules and import them**.\n",
        "1. You are allowed to use functions and methods from the [Python Standard Library](https://docs.python.org/3/library/) and [numpy](https://www.numpy.org/devdocs/reference/) only. **Do not import anything else.**\n",
        "1. Your code must run without errors. Make sure your `numpy` version is at least 1.15.4 and that you are using at least python 3.6. Changes of the configuration we provided are at your own risk. Any code that cannot run will not be graded.\n",
        "1. Write your own code. Cheating will not be tolerated.\n",
        "1. Answers to qualitative questions should be written in **markdown** cells (with $\\LaTeX$ support). Answers that will be written in commented code blocks will not be checked.\n",
        "\n",
        "## In this exercise you will perform the following:\n",
        "1. Practice OOP in python.\n",
        "2. Implement two impurity measures: Gini and Entropy.\n",
        "3. Construct a decision tree algorithm.\n",
        "4. Prune the tree to achieve better results.\n",
        "5. Visualize your results."
      ]
    },
    {
      "cell_type": "markdown",
      "metadata": {
        "id": "3Ha4C86rCI9k"
      },
      "source": [
        "# I have read and understood the instructions: 204502926, 204945323"
      ]
    },
    {
      "cell_type": "code",
      "metadata": {
        "nbgrader": {
          "grade": false,
          "grade_id": "cell-ed9fe7b1026e33cb",
          "locked": true,
          "schema_version": 1,
          "solution": false
        },
        "id": "BbDOlJkdCI9k"
      },
      "source": [
        "import numpy as np\n",
        "import pandas as pd\n",
        "import matplotlib.pyplot as plt\n",
        "\n",
        "# make matplotlib figures appear inline in the notebook\n",
        "%matplotlib inline\n",
        "plt.rcParams['figure.figsize'] = (10.0, 8.0) # set default size of plots\n",
        "plt.rcParams['image.interpolation'] = 'nearest'\n",
        "plt.rcParams['image.cmap'] = 'gray'\n",
        "\n",
        "# Ignore warnings\n",
        "import warnings\n",
        "warnings.filterwarnings('ignore')"
      ],
      "execution_count": 1,
      "outputs": []
    },
    {
      "cell_type": "markdown",
      "metadata": {
        "nbgrader": {
          "grade": false,
          "grade_id": "cell-c6ac605270c2b091",
          "locked": true,
          "schema_version": 1,
          "solution": false
        },
        "id": "A3KZOAmVCI9l"
      },
      "source": [
        "## Warmup - OOP in python\n",
        "\n",
        "Our desicion tree will be implemented using a dedicated python class. Python classes are very similar to classes in Java.\n",
        "\n",
        "\n",
        "You can use the following [site](https://jeffknupp.com/blog/2014/06/18/improve-your-python-python-classes-and-object-oriented-programming/) to learn about classes in python."
      ]
    },
    {
      "cell_type": "code",
      "metadata": {
        "id": "i6sIVmH0CI9l"
      },
      "source": [
        "class Node(object):\n",
        "    def __init__(self, data):\n",
        "        self.data = data\n",
        "        self.children = []\n",
        "\n",
        "    def add_child(self, node):\n",
        "        self.children.append(node)"
      ],
      "execution_count": 2,
      "outputs": []
    },
    {
      "cell_type": "code",
      "metadata": {
        "colab": {
          "base_uri": "https://localhost:8080/"
        },
        "id": "mFVYFWdyCI9m",
        "outputId": "5fe42463-711e-40ec-a401-83e34f4982b4"
      },
      "source": [
        "n = Node(5)\n",
        "p = Node(6)\n",
        "q = Node(7)\n",
        "n.add_child(p)\n",
        "n.add_child(q)\n",
        "n.children"
      ],
      "execution_count": 3,
      "outputs": [
        {
          "output_type": "execute_result",
          "data": {
            "text/plain": [
              "[<__main__.Node at 0x7fd2bf5a9a10>, <__main__.Node at 0x7fd2bf5a9a90>]"
            ]
          },
          "metadata": {
            "tags": []
          },
          "execution_count": 3
        }
      ]
    },
    {
      "cell_type": "markdown",
      "metadata": {
        "nbgrader": {
          "grade": false,
          "grade_id": "cell-2f1ceb251c649b62",
          "locked": true,
          "schema_version": 1,
          "solution": false
        },
        "id": "4jqGtE_SCI9m"
      },
      "source": [
        "## Data preprocessing\n",
        "\n",
        "For the following exercise, we will use a dataset containing mushroom data `agaricus-lepiota.csv`. \n",
        "\n",
        "This data set includes descriptions of hypothetical samples corresponding to 23 species of gilled mushrooms in the Agaricus and Lepiota Family. Each species is identified as definitely edible, definitely poisonous, or of unknown edibility and not recommended. This latter class was combined with the poisonous\n",
        "one (=there are only two classes **edible** and **poisonous**). \n",
        "    \n",
        "The dataset contains 8124 observations with 22 features:\n",
        "1. cap-shape: bell=b,conical=c,convex=x,flat=f,knobbed=k,sunken=s\n",
        "2. cap-surface: fibrous=f,grooves=g,scaly=y,smooth=s\n",
        "3. cap-color: brown=n,buff=b,cinnamon=c,gray=g,green=r,pink=p,purple=u,red=e,white=w,yellow=y\n",
        "4. bruises: bruises=t,no=f\n",
        "5. odor: almond=a,anise=l,creosote=c,fishy=y,foul=f, musty=m,none=n,pungent=p,spicy=s\n",
        "6. gill-attachment: attached=a,descending=d,free=f,notched=n\n",
        "7. gill-spacing: close=c,crowded=w,distant=d\n",
        "8. gill-size: broad=b,narrow=n\n",
        "9. gill-color: black=k,brown=n,buff=b,chocolate=h,gray=g,green=r,orange=o,pink=p,purple=u,red=e,white=w,yellow=y\n",
        "10. stalk-shape: enlarging=e,tapering=t\n",
        "11. stalk-root: bulbous=b,club=c,cup=u,equal=e,rhizomorphs=z,rooted=r\n",
        "12. stalk-surface-above-ring: fibrous=f,scaly=y,silky=k,smooth=s\n",
        "13. stalk-surface-below-ring: fibrous=f,scaly=y,silky=k,smooth=s\n",
        "14. stalk-color-above-ring: brown=n,buff=b,cinnamon=c,gray=g,orange=o,pink=p,red=e,white=w,yellow=y\n",
        "15. stalk-color-below-ring: brown=n,buff=b,cinnamon=c,gray=g,orange=o,pink=p,red=e,white=w,yellow=y\n",
        "16. veil-type: partial=p,universal=u\n",
        "17. veil-color: brown=n,orange=o,white=w,yellow=y\n",
        "18. ring-number: none=n,one=o,two=t\n",
        "19. ring-type: cobwebby=c,evanescent=e,flaring=f,large=l,none=n,pendant=p,sheathing=s,zone=z\n",
        "20. spore-print-color: black=k,brown=n,buff=b,chocolate=h,green=r,orange=o,purple=u,white=w,yellow=y\n",
        "21. population: abundant=a,clustered=c,numerous=n,scattered=s,several=v,solitary=y\n",
        "22. habitat: grasses=g,leaves=l,meadows=m,paths=p,urban=u,waste=w,woods=d\n",
        "\n",
        "First, we will read and explore the data using pandas and the `.read_csv` method. Pandas is an open source library providing high-performance, easy-to-use data structures and data analysis tools for the Python programming language."
      ]
    },
    {
      "cell_type": "code",
      "metadata": {
        "nbgrader": {
          "grade": false,
          "grade_id": "cell-d79cb4542926ad3f",
          "locked": true,
          "schema_version": 1,
          "solution": false
        },
        "id": "cj3yq_nkCI9n"
      },
      "source": [
        "# load dataset\n",
        "data = pd.read_csv('agaricus-lepiota.csv')"
      ],
      "execution_count": 4,
      "outputs": []
    },
    {
      "cell_type": "code",
      "metadata": {
        "id": "blxZRpOuCI9n",
        "colab": {
          "base_uri": "https://localhost:8080/",
          "height": 490
        },
        "outputId": "6d3c3c44-8fbb-4460-fad7-6f4c1ec5f7b1"
      },
      "source": [
        "data"
      ],
      "execution_count": 5,
      "outputs": [
        {
          "output_type": "execute_result",
          "data": {
            "text/html": [
              "<div>\n",
              "<style scoped>\n",
              "    .dataframe tbody tr th:only-of-type {\n",
              "        vertical-align: middle;\n",
              "    }\n",
              "\n",
              "    .dataframe tbody tr th {\n",
              "        vertical-align: top;\n",
              "    }\n",
              "\n",
              "    .dataframe thead th {\n",
              "        text-align: right;\n",
              "    }\n",
              "</style>\n",
              "<table border=\"1\" class=\"dataframe\">\n",
              "  <thead>\n",
              "    <tr style=\"text-align: right;\">\n",
              "      <th></th>\n",
              "      <th>cap-shape</th>\n",
              "      <th>cap-surface</th>\n",
              "      <th>cap-color</th>\n",
              "      <th>bruises</th>\n",
              "      <th>odor</th>\n",
              "      <th>gill-attachment</th>\n",
              "      <th>gill-spacing</th>\n",
              "      <th>gill-size</th>\n",
              "      <th>gill-color</th>\n",
              "      <th>stalk-shape</th>\n",
              "      <th>stalk-surface-above-ring</th>\n",
              "      <th>stalk-surface-below-ring</th>\n",
              "      <th>stalk-color-above-ring</th>\n",
              "      <th>stalk-color-below-ring</th>\n",
              "      <th>veil-type</th>\n",
              "      <th>veil-color</th>\n",
              "      <th>ring-number</th>\n",
              "      <th>ring-type</th>\n",
              "      <th>spore-print-color</th>\n",
              "      <th>population</th>\n",
              "      <th>habitat</th>\n",
              "      <th>class</th>\n",
              "    </tr>\n",
              "  </thead>\n",
              "  <tbody>\n",
              "    <tr>\n",
              "      <th>0</th>\n",
              "      <td>x</td>\n",
              "      <td>s</td>\n",
              "      <td>n</td>\n",
              "      <td>t</td>\n",
              "      <td>p</td>\n",
              "      <td>f</td>\n",
              "      <td>c</td>\n",
              "      <td>n</td>\n",
              "      <td>k</td>\n",
              "      <td>e</td>\n",
              "      <td>s</td>\n",
              "      <td>s</td>\n",
              "      <td>w</td>\n",
              "      <td>w</td>\n",
              "      <td>p</td>\n",
              "      <td>w</td>\n",
              "      <td>o</td>\n",
              "      <td>p</td>\n",
              "      <td>k</td>\n",
              "      <td>s</td>\n",
              "      <td>u</td>\n",
              "      <td>p</td>\n",
              "    </tr>\n",
              "    <tr>\n",
              "      <th>1</th>\n",
              "      <td>x</td>\n",
              "      <td>s</td>\n",
              "      <td>y</td>\n",
              "      <td>t</td>\n",
              "      <td>a</td>\n",
              "      <td>f</td>\n",
              "      <td>c</td>\n",
              "      <td>b</td>\n",
              "      <td>k</td>\n",
              "      <td>e</td>\n",
              "      <td>s</td>\n",
              "      <td>s</td>\n",
              "      <td>w</td>\n",
              "      <td>w</td>\n",
              "      <td>p</td>\n",
              "      <td>w</td>\n",
              "      <td>o</td>\n",
              "      <td>p</td>\n",
              "      <td>n</td>\n",
              "      <td>n</td>\n",
              "      <td>g</td>\n",
              "      <td>e</td>\n",
              "    </tr>\n",
              "    <tr>\n",
              "      <th>2</th>\n",
              "      <td>b</td>\n",
              "      <td>s</td>\n",
              "      <td>w</td>\n",
              "      <td>t</td>\n",
              "      <td>l</td>\n",
              "      <td>f</td>\n",
              "      <td>c</td>\n",
              "      <td>b</td>\n",
              "      <td>n</td>\n",
              "      <td>e</td>\n",
              "      <td>s</td>\n",
              "      <td>s</td>\n",
              "      <td>w</td>\n",
              "      <td>w</td>\n",
              "      <td>p</td>\n",
              "      <td>w</td>\n",
              "      <td>o</td>\n",
              "      <td>p</td>\n",
              "      <td>n</td>\n",
              "      <td>n</td>\n",
              "      <td>m</td>\n",
              "      <td>e</td>\n",
              "    </tr>\n",
              "    <tr>\n",
              "      <th>3</th>\n",
              "      <td>x</td>\n",
              "      <td>y</td>\n",
              "      <td>w</td>\n",
              "      <td>t</td>\n",
              "      <td>p</td>\n",
              "      <td>f</td>\n",
              "      <td>c</td>\n",
              "      <td>n</td>\n",
              "      <td>n</td>\n",
              "      <td>e</td>\n",
              "      <td>s</td>\n",
              "      <td>s</td>\n",
              "      <td>w</td>\n",
              "      <td>w</td>\n",
              "      <td>p</td>\n",
              "      <td>w</td>\n",
              "      <td>o</td>\n",
              "      <td>p</td>\n",
              "      <td>k</td>\n",
              "      <td>s</td>\n",
              "      <td>u</td>\n",
              "      <td>p</td>\n",
              "    </tr>\n",
              "    <tr>\n",
              "      <th>4</th>\n",
              "      <td>x</td>\n",
              "      <td>s</td>\n",
              "      <td>g</td>\n",
              "      <td>f</td>\n",
              "      <td>n</td>\n",
              "      <td>f</td>\n",
              "      <td>w</td>\n",
              "      <td>b</td>\n",
              "      <td>k</td>\n",
              "      <td>t</td>\n",
              "      <td>s</td>\n",
              "      <td>s</td>\n",
              "      <td>w</td>\n",
              "      <td>w</td>\n",
              "      <td>p</td>\n",
              "      <td>w</td>\n",
              "      <td>o</td>\n",
              "      <td>e</td>\n",
              "      <td>n</td>\n",
              "      <td>a</td>\n",
              "      <td>g</td>\n",
              "      <td>e</td>\n",
              "    </tr>\n",
              "    <tr>\n",
              "      <th>...</th>\n",
              "      <td>...</td>\n",
              "      <td>...</td>\n",
              "      <td>...</td>\n",
              "      <td>...</td>\n",
              "      <td>...</td>\n",
              "      <td>...</td>\n",
              "      <td>...</td>\n",
              "      <td>...</td>\n",
              "      <td>...</td>\n",
              "      <td>...</td>\n",
              "      <td>...</td>\n",
              "      <td>...</td>\n",
              "      <td>...</td>\n",
              "      <td>...</td>\n",
              "      <td>...</td>\n",
              "      <td>...</td>\n",
              "      <td>...</td>\n",
              "      <td>...</td>\n",
              "      <td>...</td>\n",
              "      <td>...</td>\n",
              "      <td>...</td>\n",
              "      <td>...</td>\n",
              "    </tr>\n",
              "    <tr>\n",
              "      <th>8119</th>\n",
              "      <td>k</td>\n",
              "      <td>s</td>\n",
              "      <td>n</td>\n",
              "      <td>f</td>\n",
              "      <td>n</td>\n",
              "      <td>a</td>\n",
              "      <td>c</td>\n",
              "      <td>b</td>\n",
              "      <td>y</td>\n",
              "      <td>e</td>\n",
              "      <td>s</td>\n",
              "      <td>s</td>\n",
              "      <td>o</td>\n",
              "      <td>o</td>\n",
              "      <td>p</td>\n",
              "      <td>o</td>\n",
              "      <td>o</td>\n",
              "      <td>p</td>\n",
              "      <td>b</td>\n",
              "      <td>c</td>\n",
              "      <td>l</td>\n",
              "      <td>e</td>\n",
              "    </tr>\n",
              "    <tr>\n",
              "      <th>8120</th>\n",
              "      <td>x</td>\n",
              "      <td>s</td>\n",
              "      <td>n</td>\n",
              "      <td>f</td>\n",
              "      <td>n</td>\n",
              "      <td>a</td>\n",
              "      <td>c</td>\n",
              "      <td>b</td>\n",
              "      <td>y</td>\n",
              "      <td>e</td>\n",
              "      <td>s</td>\n",
              "      <td>s</td>\n",
              "      <td>o</td>\n",
              "      <td>o</td>\n",
              "      <td>p</td>\n",
              "      <td>n</td>\n",
              "      <td>o</td>\n",
              "      <td>p</td>\n",
              "      <td>b</td>\n",
              "      <td>v</td>\n",
              "      <td>l</td>\n",
              "      <td>e</td>\n",
              "    </tr>\n",
              "    <tr>\n",
              "      <th>8121</th>\n",
              "      <td>f</td>\n",
              "      <td>s</td>\n",
              "      <td>n</td>\n",
              "      <td>f</td>\n",
              "      <td>n</td>\n",
              "      <td>a</td>\n",
              "      <td>c</td>\n",
              "      <td>b</td>\n",
              "      <td>n</td>\n",
              "      <td>e</td>\n",
              "      <td>s</td>\n",
              "      <td>s</td>\n",
              "      <td>o</td>\n",
              "      <td>o</td>\n",
              "      <td>p</td>\n",
              "      <td>o</td>\n",
              "      <td>o</td>\n",
              "      <td>p</td>\n",
              "      <td>b</td>\n",
              "      <td>c</td>\n",
              "      <td>l</td>\n",
              "      <td>e</td>\n",
              "    </tr>\n",
              "    <tr>\n",
              "      <th>8122</th>\n",
              "      <td>k</td>\n",
              "      <td>y</td>\n",
              "      <td>n</td>\n",
              "      <td>f</td>\n",
              "      <td>y</td>\n",
              "      <td>f</td>\n",
              "      <td>c</td>\n",
              "      <td>n</td>\n",
              "      <td>b</td>\n",
              "      <td>t</td>\n",
              "      <td>s</td>\n",
              "      <td>k</td>\n",
              "      <td>w</td>\n",
              "      <td>w</td>\n",
              "      <td>p</td>\n",
              "      <td>w</td>\n",
              "      <td>o</td>\n",
              "      <td>e</td>\n",
              "      <td>w</td>\n",
              "      <td>v</td>\n",
              "      <td>l</td>\n",
              "      <td>p</td>\n",
              "    </tr>\n",
              "    <tr>\n",
              "      <th>8123</th>\n",
              "      <td>x</td>\n",
              "      <td>s</td>\n",
              "      <td>n</td>\n",
              "      <td>f</td>\n",
              "      <td>n</td>\n",
              "      <td>a</td>\n",
              "      <td>c</td>\n",
              "      <td>b</td>\n",
              "      <td>y</td>\n",
              "      <td>e</td>\n",
              "      <td>s</td>\n",
              "      <td>s</td>\n",
              "      <td>o</td>\n",
              "      <td>o</td>\n",
              "      <td>p</td>\n",
              "      <td>o</td>\n",
              "      <td>o</td>\n",
              "      <td>p</td>\n",
              "      <td>o</td>\n",
              "      <td>c</td>\n",
              "      <td>l</td>\n",
              "      <td>p</td>\n",
              "    </tr>\n",
              "  </tbody>\n",
              "</table>\n",
              "<p>8124 rows × 22 columns</p>\n",
              "</div>"
            ],
            "text/plain": [
              "     cap-shape cap-surface cap-color  ... population habitat class\n",
              "0            x           s         n  ...          s       u     p\n",
              "1            x           s         y  ...          n       g     e\n",
              "2            b           s         w  ...          n       m     e\n",
              "3            x           y         w  ...          s       u     p\n",
              "4            x           s         g  ...          a       g     e\n",
              "...        ...         ...       ...  ...        ...     ...   ...\n",
              "8119         k           s         n  ...          c       l     e\n",
              "8120         x           s         n  ...          v       l     e\n",
              "8121         f           s         n  ...          c       l     e\n",
              "8122         k           y         n  ...          v       l     p\n",
              "8123         x           s         n  ...          c       l     p\n",
              "\n",
              "[8124 rows x 22 columns]"
            ]
          },
          "metadata": {
            "tags": []
          },
          "execution_count": 5
        }
      ]
    },
    {
      "cell_type": "markdown",
      "metadata": {
        "id": "oW26HjJNCI9n"
      },
      "source": [
        "One of the advantages of the Decision Tree algorithm is that almost no preprocessing is required. However, finding missing values is always required."
      ]
    },
    {
      "cell_type": "code",
      "metadata": {
        "id": "wGDubwAACI9n",
        "colab": {
          "base_uri": "https://localhost:8080/"
        },
        "outputId": "04d899f7-af78-4e1b-a880-e0834fdce546"
      },
      "source": [
        "#############################################################################\n",
        "# TODO: Find the columns with missing values and remove them from the data.#\n",
        "#############################################################################\n",
        "print(f'{data.isnull().values.any()}\\n') # if any\n",
        "print(f'{data.isnull().sum()}\\n') # missing values' sum per column\n",
        "print(f'{data.isnull().sum().sum()}') # overall missing values' sum\n",
        "# no missing values in data\n",
        "\n",
        "data = data.dropna()\n",
        "#############################################################################\n",
        "#                             END OF YOUR CODE                              #\n",
        "#############################################################################"
      ],
      "execution_count": 6,
      "outputs": [
        {
          "output_type": "stream",
          "text": [
            "False\n",
            "\n",
            "cap-shape                   0\n",
            "cap-surface                 0\n",
            "cap-color                   0\n",
            "bruises                     0\n",
            "odor                        0\n",
            "gill-attachment             0\n",
            "gill-spacing                0\n",
            "gill-size                   0\n",
            "gill-color                  0\n",
            "stalk-shape                 0\n",
            "stalk-surface-above-ring    0\n",
            "stalk-surface-below-ring    0\n",
            "stalk-color-above-ring      0\n",
            "stalk-color-below-ring      0\n",
            "veil-type                   0\n",
            "veil-color                  0\n",
            "ring-number                 0\n",
            "ring-type                   0\n",
            "spore-print-color           0\n",
            "population                  0\n",
            "habitat                     0\n",
            "class                       0\n",
            "dtype: int64\n",
            "\n",
            "0\n"
          ],
          "name": "stdout"
        }
      ]
    },
    {
      "cell_type": "markdown",
      "metadata": {
        "id": "FEwZtYzPCI9o"
      },
      "source": [
        "---"
      ]
    },
    {
      "cell_type": "markdown",
      "metadata": {
        "id": "p1_74iEcCI9o"
      },
      "source": [
        "We will split the dataset to `Training` and `Testing` datasets."
      ]
    },
    {
      "cell_type": "code",
      "metadata": {
        "id": "K0NsUYrkCI9p",
        "colab": {
          "base_uri": "https://localhost:8080/"
        },
        "outputId": "9f5f01e6-935f-4e4d-e371-727657332d4d"
      },
      "source": [
        "from sklearn.model_selection import train_test_split\n",
        "# Making sure the last column will hold the labels\n",
        "X, y = data.drop('class', axis=1), data['class']\n",
        "X = np.column_stack([X,y])\n",
        "# split dataset using random_state to get the same split each time\n",
        "X_train, X_test = train_test_split(X, random_state=99)\n",
        "\n",
        "print(\"Training dataset shape: \", X_train.shape)\n",
        "print(\"Testing dataset shape: \", X_test.shape)"
      ],
      "execution_count": 7,
      "outputs": [
        {
          "output_type": "stream",
          "text": [
            "Training dataset shape:  (6093, 22)\n",
            "Testing dataset shape:  (2031, 22)\n"
          ],
          "name": "stdout"
        }
      ]
    },
    {
      "cell_type": "code",
      "metadata": {
        "id": "bwaghz0zCI9p",
        "colab": {
          "base_uri": "https://localhost:8080/"
        },
        "outputId": "e112002f-8af8-4075-b779-614280937e9c"
      },
      "source": [
        "y.shape"
      ],
      "execution_count": 8,
      "outputs": [
        {
          "output_type": "execute_result",
          "data": {
            "text/plain": [
              "(8124,)"
            ]
          },
          "metadata": {
            "tags": []
          },
          "execution_count": 8
        }
      ]
    },
    {
      "cell_type": "code",
      "metadata": {
        "id": "9x5ekVHTTaYz",
        "colab": {
          "base_uri": "https://localhost:8080/"
        },
        "outputId": "c00d673e-ffaa-45fa-ee2f-a6bc4a442b30"
      },
      "source": [
        "X_train"
      ],
      "execution_count": 9,
      "outputs": [
        {
          "output_type": "execute_result",
          "data": {
            "text/plain": [
              "array([['x', 's', 'y', ..., 'n', 'g', 'e'],\n",
              "       ['k', 'y', 'e', ..., 'v', 'l', 'e'],\n",
              "       ['f', 'y', 'n', ..., 'v', 'p', 'p'],\n",
              "       ...,\n",
              "       ['x', 'y', 'n', ..., 'v', 'l', 'p'],\n",
              "       ['k', 's', 'e', ..., 'v', 'l', 'e'],\n",
              "       ['f', 'y', 'g', ..., 'y', 'p', 'p']], dtype=object)"
            ]
          },
          "metadata": {
            "tags": []
          },
          "execution_count": 9
        }
      ]
    },
    {
      "cell_type": "markdown",
      "metadata": {
        "id": "Jy67On9AaLWZ"
      },
      "source": [
        "---"
      ]
    },
    {
      "cell_type": "markdown",
      "metadata": {
        "nbgrader": {
          "grade": false,
          "grade_id": "cell-fd7b0191f3f1e897",
          "locked": true,
          "schema_version": 1,
          "solution": false
        },
        "id": "zybGnJaNCI9p"
      },
      "source": [
        "## Impurity Measures\n",
        "\n",
        "Impurity is a measure of how often a randomly chosen element from the set would be incorrectly labeled if it was randomly labeled according to the distribution of labels in the subset. Implement the functions `calc_gini` and `calc_entropy`. You are encouraged to test your implementation (10 points)."
      ]
    },
    {
      "cell_type": "code",
      "metadata": {
        "id": "psN9oQ9sWsZ0"
      },
      "source": [
        "# Helper functions for this part\n",
        "\n",
        "def get_probabilities_dict(array):\n",
        "    '''\n",
        "    Returns a dictionary with the probabilities for each of the given column-array's unique keys.\n",
        "    (ex.: {'yes': 0.51, 'no': 0.49})\n",
        "    '''\n",
        "    unique, counts = np.unique(array, return_counts=True)\n",
        "    return dict(zip(unique, counts/sum(counts)))\n",
        "\n",
        "\n",
        "def calculate_gini_impurity_from_dict(probabilities_dict):\n",
        "    return 1 - sum(np.square(list(probabilities_dict.values())))\n",
        "\n",
        "\n",
        "def calculate_entropy_from_dict(probabilities_dict):\n",
        "    return -sum(p * np.log2(p) for p in list(probabilities_dict.values()))"
      ],
      "execution_count": 10,
      "outputs": []
    },
    {
      "cell_type": "code",
      "metadata": {
        "id": "QqtLW8DbCI9p"
      },
      "source": [
        "def calc_gini(data):\n",
        "    \"\"\"\n",
        "    Calculate gini impurity measure of a dataset.\n",
        " \n",
        "    Input:\n",
        "    - data: any dataset where the last column holds the labels.\n",
        " \n",
        "    Returns the gini impurity.\n",
        "    \"\"\"\n",
        "    gini = 0.0\n",
        "    ###########################################################################\n",
        "    # TODO: Implement the function.                                           #\n",
        "    ###########################################################################\n",
        "    labels = data[:,-1] # the last column holds the labels\n",
        "    probabilities = get_probabilities_dict(labels)\n",
        "    gini = calculate_gini_impurity_from_dict(probabilities)\n",
        "    ###########################################################################\n",
        "    #                             END OF YOUR CODE                            #\n",
        "    ###########################################################################\n",
        "    return gini"
      ],
      "execution_count": 11,
      "outputs": []
    },
    {
      "cell_type": "code",
      "metadata": {
        "id": "euglt_5yCI9q"
      },
      "source": [
        "def calc_entropy(data):\n",
        "    \"\"\"\n",
        "    Calculate the entropy of a dataset.\n",
        "\n",
        "    Input:\n",
        "    - data: any dataset where the last column holds the labels.\n",
        "\n",
        "    Returns the entropy of the dataset.\n",
        "    \"\"\"\n",
        "    entropy = 0.0\n",
        "    ###########################################################################\n",
        "    # TODO: Implement the function.                                           #\n",
        "    ###########################################################################\n",
        "    labels = data[:,-1] # the last column holds the labels\n",
        "    probabilities = get_probabilities_dict(labels)\n",
        "    entropy = calculate_entropy_from_dict(probabilities)\n",
        "    ###########################################################################\n",
        "    #                             END OF YOUR CODE                            #\n",
        "    ###########################################################################\n",
        "    return entropy"
      ],
      "execution_count": 12,
      "outputs": []
    },
    {
      "cell_type": "code",
      "metadata": {
        "scrolled": true,
        "id": "7EiAc1_FCI9q",
        "colab": {
          "base_uri": "https://localhost:8080/"
        },
        "outputId": "e8206725-97a1-4d06-a03b-b6cf72905f80"
      },
      "source": [
        "##### Your Tests Here #####\n",
        "calc_gini(X), calc_entropy(X)"
      ],
      "execution_count": 13,
      "outputs": [
        {
          "output_type": "execute_result",
          "data": {
            "text/plain": [
              "(0.4995636322379775, 0.9993703627906085)"
            ]
          },
          "metadata": {
            "tags": []
          },
          "execution_count": 13
        }
      ]
    },
    {
      "cell_type": "markdown",
      "metadata": {
        "id": "B8c3R2GDaGNY"
      },
      "source": [
        "---"
      ]
    },
    {
      "cell_type": "markdown",
      "metadata": {
        "id": "qeq9yuAdCI9q"
      },
      "source": [
        "## Goodness of Split\n",
        "\n",
        "Given a feature the Goodnees of Split measures the reduction in the impurity if we split the data according to the feature.\n",
        "$$\n",
        "\\Delta\\varphi(S, A) = \\varphi(S) - \\sum_{v\\in Values(A)} \\frac{|S_v|}{|S|}\\varphi(S_v)\n",
        "$$\n",
        "\n",
        "In our implementation the goodness_of_split function will return either the Goodness of Split or the Gain Ratio as learned in class. You'll control the return value with the `gain_ratio` parameter. If this parameter will set to False (the default value) it will return the regular Goodness of Split. If it will set to True it will return the Gain Ratio.\n",
        "$$\n",
        "GainRatio(S,A)=\\frac{InformationGain(S,A)}{SplitInformation(S,A)}\n",
        "$$\n",
        "Where:\n",
        "$$\n",
        "InformationGain(S,A)=Goodness\\ of\\ Split\\ calculated\\ with\\ Entropy\\ as\\ the\\ Impurity\\ function \\\\\n",
        "SplitInformation(S,A)=- \\sum_{a\\in A} \\frac{|S_a|}{|S|}\\log\\frac{|S_a|}{|S|}\n",
        "$$\n",
        "NOTE: you can add more parameters to the function and you can also add more returning variables (The given parameters and the given returning variable should not be touch). (10 Points)"
      ]
    },
    {
      "cell_type": "code",
      "metadata": {
        "id": "1zycqxxqeLNS"
      },
      "source": [
        "# Helper functions for this part\n",
        "\n",
        "def split(data, value, feature):\n",
        "    filtered_array = data[data[:,feature] == value][:,-1]\n",
        "    return get_probabilities_dict(filtered_array)\n",
        "\n",
        "\n",
        "def calculate_impurity_from_dict(split_data, impurity_criterion):\n",
        "    if impurity_criterion == 'gini':\n",
        "        return calculate_gini_impurity_from_dict(split_data)\n",
        "    else:\n",
        "        return calculate_entropy_from_dict(split_data)"
      ],
      "execution_count": 14,
      "outputs": []
    },
    {
      "cell_type": "code",
      "metadata": {
        "id": "NuESgCcICI9r"
      },
      "source": [
        "def goodness_of_split(data, feature, impurity_func, gain_ratio=False):\n",
        "    \"\"\"\n",
        "    Calculate the goodness of split of a dataset given a feature and impurity function.\n",
        "\n",
        "    Input:\n",
        "    - data: any dataset where the last column holds the labels.\n",
        "    - feature: the feature index.\n",
        "    - impurity_func: a function that calculates the impurity.\n",
        "    - gain_ratio: goodness of split or gain ratio flag.\n",
        "\n",
        "    Returns the goodness of split (or the Gain Ratio).\n",
        "    \"\"\"\n",
        "    ###########################################################################\n",
        "    # TODO: Implement the function.                                           #\n",
        "    ###########################################################################\n",
        "    if impurity_func == calc_entropy or gain_ratio == True:\n",
        "        impurity_criterion = 'entropy'\n",
        "        impurity = calc_entropy(data)\n",
        "    else:\n",
        "        impurity_criterion = 'gini'\n",
        "        impurity = calc_gini(data)\n",
        "\n",
        "    gain = 0\n",
        "    len_of_data = data.shape[0]\n",
        "\n",
        "    feature_values = np.unique(data[:,feature])\n",
        "    \n",
        "    for value in feature_values:\n",
        "        number_of_instances = len(data[data[:,feature] == value])\n",
        "        split_data = split(data, value, feature)\n",
        "        # print(split_data, number_of_instances, len_of_data)\n",
        "        gain += (number_of_instances / len_of_data) * calculate_impurity_from_dict(split_data, impurity_criterion)\n",
        "\n",
        "    if gain_ratio == False:\n",
        "        # calculate the impurity of the node (parent) using the impurity_func passed as a parameter (gini or entorpy) and substract the weighted impurity (gini or entropy) of the children.\n",
        "        goodness = impurity - gain\n",
        "    else:\n",
        "        # calculate the information gain specifically with entropy as the impurity function, and divide it by split information.\n",
        "        information_gain = impurity # just for naming conventions in the formula\n",
        "\n",
        "        fractions = np.unique(data[:, feature], return_counts=True)[1] / data.shape[0]\n",
        "        split_information = -(np.log2(fractions) * fractions).sum()\n",
        "        gain_ratio_value = information_gain / split_information\n",
        "        goodness = gain_ratio_value\n",
        "    ###########################################################################\n",
        "    #                             END OF YOUR CODE                            #\n",
        "    ###########################################################################\n",
        "    return goodness"
      ],
      "execution_count": 15,
      "outputs": []
    },
    {
      "cell_type": "code",
      "metadata": {
        "id": "G1GR5wvLqJiH"
      },
      "source": [
        "# ##### TESTS #####\n",
        "# tennis_data = {\n",
        "#     'day' : [1,2,3,4,5,6,7,8,9,10,11,12,13,14],\n",
        "#     'outlook' : ['sunny', 'sunny', 'overcast', 'rain', 'rain', 'rain', 'overcast', 'sunny', 'sunny', 'rain', 'sunny', 'overcast', 'overcast', 'rain'],\n",
        "#     'temperature' : ['hot', 'hot', 'hot', 'mild', 'cool', 'cool', 'cool', 'mild', 'cool', 'mild', 'mild', 'mild', 'hot', 'mild'],\n",
        "#     'humidity' : ['high', 'high', 'high', 'high', 'normal', 'normal', 'normal', 'high', 'normal', 'normal', 'normal', 'high', 'normal', 'high'],\n",
        "#     'wind' : ['weak', 'strong', 'weak', 'weak', 'weak', 'strong', 'strong', 'weak', 'weak', 'weak', 'strong', 'strong', 'weak', 'strong'],\n",
        "#     'playsTennis' : ['no', 'no', 'yes', 'yes', 'yes', 'no', 'yes', 'no', 'yes', 'yes', 'yes', 'yes', 'yes', 'no']\n",
        "# }\n",
        "\n",
        "# tennis_data = pd.DataFrame(tennis_data, columns=tennis_data.keys())\n",
        "# label_column = 'playsTennis'\n",
        "# A, b = tennis_data.drop([label_column], axis=1), tennis_data[label_column]\n",
        "# A = np.column_stack([A,b])\n",
        "\n",
        "# print(A)\n",
        "# calc_gini(A), calc_entropy(A)\n",
        "# feature = 0 # 0 is 'day'\n",
        "# goodness_of_split(A, feature, calc_entropy, False)"
      ],
      "execution_count": 16,
      "outputs": []
    },
    {
      "cell_type": "code",
      "metadata": {
        "id": "CUGl0BOOrCv0"
      },
      "source": [
        "def get_goodness_of_split_for_all_features(data, array_of_feature_indices, impurity=calc_gini, gain_ratio=False):\n",
        "    goodness_of_split_dict = dict()\n",
        "\n",
        "    for i in array_of_feature_indices:\n",
        "        goodness_of_split_dict[i] = goodness_of_split(data, i, impurity, gain_ratio)\n",
        "\n",
        "    return goodness_of_split_dict"
      ],
      "execution_count": 17,
      "outputs": []
    },
    {
      "cell_type": "code",
      "metadata": {
        "id": "BYHek1WngM4U"
      },
      "source": [
        "# array_of_feature_indices = np.arange(1,5) # [1,2,3,4] excluding the 'day' & 'label' features\n",
        "# get_goodness_of_split_for_all_features(A, array_of_feature_indices, calc_gini)"
      ],
      "execution_count": 18,
      "outputs": []
    },
    {
      "cell_type": "markdown",
      "metadata": {
        "id": "qNnvuZ-dfHnn"
      },
      "source": [
        "---"
      ]
    },
    {
      "cell_type": "markdown",
      "metadata": {
        "id": "v299Jf3rCI9r"
      },
      "source": [
        "## Building a Decision Tree\n",
        "\n",
        "Use a Python class to construct the decision tree. Your class should support the following functionality:\n",
        "\n",
        "1. Initiating a node for a decision tree. You will need to use several class methods and class attributes and you are free to use them as you see fit. We recommend that every node will hold the feature and value used for the split and its children.\n",
        "2. Your code should support both Gini and Entropy as impurity measures. \n",
        "3. The provided data includes categorical data. In this exercise, when splitting a node create the number of children needed according to the attribute unique values.\n",
        "\n",
        "Complete the class `DecisionNode`. The structure of this class is entirely up to you. \n",
        "\n",
        "Complete the function `build_tree`. This function should get the training dataset and the impurity as inputs, initiate a root for the decision tree and construct the tree according to the procedure you learned in class. (30 points)"
      ]
    },
    {
      "cell_type": "code",
      "metadata": {
        "id": "tB_IiW9G3ITy"
      },
      "source": [
        "### Chi square table values ###\n",
        "# The first key is the degree of freedom\n",
        "# The second key is the p-value cut-off\n",
        "# The values are the chi-statistic that you need to use in the pruning\n",
        "\n",
        "chi_table = {1: {0.5 : 0.45,\n",
        "                 0.25 : 1.32,\n",
        "                 0.1 : 2.71,\n",
        "                 0.05 : 3.84,\n",
        "                 0.0001 : 100000},\n",
        "             2: {0.5 : 1.39,\n",
        "                 0.25 : 2.77,\n",
        "                 0.1 : 4.60,\n",
        "                 0.05 : 5.99,\n",
        "                 0.0001 : 100000},\n",
        "             3: {0.5 : 2.37,\n",
        "                 0.25 : 4.11,\n",
        "                 0.1 : 6.25,\n",
        "                 0.05 : 7.82,\n",
        "                 0.0001 : 100000},\n",
        "             4: {0.5 : 3.36,\n",
        "                 0.25 : 5.38,\n",
        "                 0.1 : 7.78,\n",
        "                 0.05 : 9.49,\n",
        "                 0.0001 : 100000},\n",
        "             5: {0.5 : 4.35,\n",
        "                 0.25 : 6.63,\n",
        "                 0.1 : 9.24,\n",
        "                 0.05 : 11.07,\n",
        "                 0.0001 : 100000},\n",
        "             6: {0.5 : 5.35,\n",
        "                 0.25 : 7.84,\n",
        "                 0.1 : 10.64,\n",
        "                 0.05 : 12.59,\n",
        "                 0.0001 : 100000},\n",
        "             7: {0.5 : 6.35,\n",
        "                 0.25 : 9.04,\n",
        "                 0.1 : 12.01,\n",
        "                 0.05 : 14.07,\n",
        "                 0.0001 : 100000},\n",
        "             8: {0.5 : 7.34,\n",
        "                 0.25 : 10.22,\n",
        "                 0.1 : 13.36,\n",
        "                 0.05 : 15.51,\n",
        "                 0.0001 : 100000},\n",
        "             9: {0.5 : 8.34,\n",
        "                 0.25 : 11.39,\n",
        "                 0.1 : 14.68,\n",
        "                 0.05 : 16.92,\n",
        "                 0.0001 : 100000},\n",
        "             10: {0.5 : 9.34,\n",
        "                  0.25 : 12.55,\n",
        "                  0.1 : 15.99,\n",
        "                  0.05 : 18.31,\n",
        "                  0.0001 : 100000},\n",
        "             11: {0.5 : 10.34,\n",
        "                  0.25 : 13.7,\n",
        "                  0.1 : 17.27,\n",
        "                  0.05 : 19.68,\n",
        "                  0.0001 : 100000}}"
      ],
      "execution_count": 19,
      "outputs": []
    },
    {
      "cell_type": "code",
      "metadata": {
        "id": "s2biBjgHQAfK"
      },
      "source": [
        "def get_subtable(data, node, value):\n",
        "    '''\n",
        "    Returns subtable where it's only the instances of given value\n",
        "    ex.: all instances with outlook == 'sunny'\n",
        "    ''' \n",
        "    return data[data[:,node] == value]\n",
        "\n",
        "\n",
        "def get_frequent_prediction(data):\n",
        "    '''\n",
        "    Returns the most frequent *label* from given data\n",
        "    '''\n",
        "    l = list(data[:,-1]) # -1 is the last column where the label is\n",
        "    frequent = max(set(l), key = l.count)\n",
        "    return frequent\n",
        "\n",
        "\n",
        "def get_chi_square(data, feature):\n",
        "    feature_values = np.unique(data[:, feature])\n",
        "    num_samples = data.shape[0]\n",
        "    class_pos, class_neg = (data[:, -1] == \"p\").sum(), (data[:, -1] == \"e\").sum()\n",
        "    prob_pos, prob_neg = class_pos / num_samples, class_neg / num_samples\n",
        "    chi_stat = 0.0\n",
        "\n",
        "    for value in feature_values:\n",
        "        subset = (data[:, feature] == value)\n",
        "        d = subset.sum()\n",
        "        pos = (subset & (data[:, -1] == \"p\")).sum()\n",
        "        neg = d - pos\n",
        "        E_pos, E_neg = d * prob_pos, d * prob_neg\n",
        "\n",
        "        chi_stat += ((pos - E_pos)**2 / E_pos) + ((neg - E_neg)**2 / E_neg)\n",
        "\n",
        "    return chi_stat"
      ],
      "execution_count": 20,
      "outputs": []
    },
    {
      "cell_type": "code",
      "metadata": {
        "id": "QaRGo2t-CI9r"
      },
      "source": [
        "class DecisionNode:\n",
        "    \"\"\"\n",
        "    This class will hold everything you require to construct a decision tree.\n",
        "    The structure of this class is up to you. However, you need to support basic \n",
        "    functionality as described above. It is highly recommended that you \n",
        "    first read and understand the entire exercise before diving into this class.\n",
        "    \"\"\"\n",
        "    def __init__(self, feature_name, feature, came_from_feature):\n",
        "        self.feature = feature # column index of criteria being tested\n",
        "        self.feature_name = feature_name\n",
        "        self.children = []\n",
        "        self.data = None # holds the relevant data at each node\n",
        "        self.is_leaf = False\n",
        "        self.prediction = None\n",
        "        self.parent = came_from_feature\n",
        "\n",
        "    def add_child(self, node):\n",
        "        self.children.append(node)\n",
        "\n",
        "    def add_data(self, data):\n",
        "        self.data = data\n",
        "        # total number of samples\n",
        "        self.samples = data.shape[0]\n",
        "        # number of occurances of each class\n",
        "        unique, counts = np.unique(data[:, -1], return_counts=True)\n",
        "        self.class_counts = dict(zip(unique, counts))\n",
        "\n",
        "    def get_is_leaf(self):\n",
        "        return self.is_leaf\n",
        "    \n",
        "    def set_is_leaf(self, value):\n",
        "        self.is_leaf = value    \n",
        "    \n",
        "    def get_prediction(self):\n",
        "        return self.prediction\n",
        "\n",
        "    def set_prediction(self, value):\n",
        "        self.prediction = value"
      ],
      "execution_count": 21,
      "outputs": []
    },
    {
      "cell_type": "code",
      "metadata": {
        "id": "btZ_dLQb3dPS"
      },
      "source": [
        "def build_subtree(data, impurity, parent_feature, gain_ratio=False, chi=1.0, max_depth=1000,\n",
        "                  array_of_feature_indices=None, depth=0, feature_name=''):\n",
        "    goodness_of_split_dict = get_goodness_of_split_for_all_features(data, array_of_feature_indices, impurity)\n",
        "\n",
        "    best_feature = max(goodness_of_split_dict, key=goodness_of_split_dict.get)\n",
        "\n",
        "    node = DecisionNode(feature_name, best_feature, parent_feature)\n",
        "\n",
        "    attValue = np.unique(data[:, best_feature])\n",
        "\n",
        "    deg_of_freedom = len(attValue) - 1\n",
        "    should_prune = False\n",
        "\n",
        "    if chi != 1 and deg_of_freedom > 0:\n",
        "        chi_stat = get_chi_square(data, best_feature)\n",
        "        should_prune = chi_stat <= chi_table[deg_of_freedom][chi]\n",
        "\n",
        "    if all(value == 0 for value in goodness_of_split_dict.values()) or not max_depth or should_prune:\n",
        "        # no gain by splitting anymore or too deep in recursion\n",
        "        frequent = get_frequent_prediction(data)\n",
        "        child_node = DecisionNode(feature_name, None, parent_feature)\n",
        "        child_node.set_is_leaf(True)\n",
        "        child_node.set_prediction(frequent)\n",
        "        child_node.add_data(data)\n",
        "\n",
        "        return child_node\n",
        "\n",
        "    for feature_name in attValue:\n",
        "        subtable = get_subtable(data, best_feature, feature_name)\n",
        "        clValue, counts = np.unique(subtable[:, -1], return_counts=True)\n",
        "        parent_feature = best_feature\n",
        "\n",
        "        if len(counts) == 1 or should_prune:\n",
        "            # stop if the subset is pure\n",
        "            child_node = DecisionNode(feature_name, None, best_feature)\n",
        "            child_node.set_is_leaf(True)\n",
        "            child_node.set_prediction(clValue[0])\n",
        "        else:\n",
        "            child_node = build_subtree(data=subtable, chi=chi, impurity=impurity, gain_ratio=gain_ratio, \n",
        "                                       max_depth=max_depth-1, array_of_feature_indices=array_of_feature_indices, \n",
        "                                       feature_name=feature_name, parent_feature=parent_feature)\n",
        "\n",
        "        child_node.add_data(subtable)\n",
        "        node.add_child(child_node)\n",
        "\n",
        "    return node\n",
        "\n",
        "\n",
        "def build_tree(data, impurity, gain_ratio=False, chi=1.0, max_depth=1000, array_of_feature_indices=None):\n",
        "    \"\"\"\n",
        "    Build a tree using the given impurity measure and training dataset. \n",
        "    You are required to fully grow the tree until all leaves are pure. \n",
        "\n",
        "    Input:\n",
        "    - data: the training dataset.\n",
        "    - impurity: the chosen impurity measure. Notice that you can send a function\n",
        "                as an argument in python.\n",
        "    - gain_ratio: goodness of split or gain ratio flag\n",
        "    - chi: chi square p-value cut off (1 means no pruning)\n",
        "    - max_depth: the allowable depth of the tree\n",
        "\n",
        "    Output: the root node of the tree.\n",
        "    \"\"\"\n",
        "\n",
        "    root = None\n",
        "\n",
        "    ###########################################################################\n",
        "    # TODO: Implement the function.                                           #\n",
        "    ###########################################################################\n",
        "    if len(data) == 1:\n",
        "        return data[0][-1]\n",
        "\n",
        "    if array_of_feature_indices is None:\n",
        "        array_of_feature_indices = np.arange(data.shape[1] - 1)\n",
        "\n",
        "    feature_name = 'ROOT'\n",
        "    parent_feature = -1\n",
        "    root = build_subtree(data=data, impurity=impurity, chi=chi, max_depth=max_depth, gain_ratio=gain_ratio,\n",
        "                         array_of_feature_indices=array_of_feature_indices, feature_name=feature_name,\n",
        "                         parent_feature=parent_feature)\n",
        "    root.add_data(data)\n",
        "    ###########################################################################\n",
        "    #                             END OF YOUR CODE                            #\n",
        "    ###########################################################################\n",
        "    return root"
      ],
      "execution_count": 22,
      "outputs": []
    },
    {
      "cell_type": "code",
      "metadata": {
        "id": "NA62oiZZ0C-Q"
      },
      "source": [
        "# array_of_feature_indices = np.arange(1, 5)\n",
        "# t = build_tree(data=A, impurity=calc_gini, array_of_feature_indices=array_of_feature_indices)\n",
        "\n",
        "# def get_tree(t):\n",
        "#     print(t.feature_name, t.feature, t.parent)\n",
        "#     print('-')\n",
        "\n",
        "#     for n in t.children:\n",
        "#         print(n.feature_name, n.feature, n.parent)\n",
        "#         print(n.children)\n",
        "#         print('--')\n",
        "\n",
        "#         for a in n.children:\n",
        "#             print(a.children)\n",
        "#             print(a.feature_name, a.feature, a.parent)\n",
        "#             print(a.get_is_leaf())\n",
        "#             print('---')\n",
        "\n",
        "\n",
        "# get_tree(t)"
      ],
      "execution_count": 23,
      "outputs": []
    },
    {
      "cell_type": "code",
      "metadata": {
        "id": "6QS3c5bxCI9s"
      },
      "source": [
        "# python supports passing a function as an argument to another function.\n",
        "tree_gini = build_tree(data=X_train, impurity=calc_gini) # gini and goodness of split\n",
        "tree_entropy = build_tree(data=X_train, impurity=calc_entropy) # entropy and goodness of split\n",
        "tree_entropy_gain_ratio = build_tree(data=X_train, impurity=calc_entropy, gain_ratio=True) # entropy and gain ratio"
      ],
      "execution_count": 24,
      "outputs": []
    },
    {
      "cell_type": "markdown",
      "metadata": {
        "id": "dKOLi03JouvX"
      },
      "source": [
        "---"
      ]
    },
    {
      "cell_type": "markdown",
      "metadata": {
        "id": "s1A0p654CI9s"
      },
      "source": [
        "## Tree evaluation\n",
        "\n",
        "Complete the functions `predict` and `calc_accuracy`. (10 points)"
      ]
    },
    {
      "cell_type": "code",
      "metadata": {
        "id": "m9_NzVQ3CI9t"
      },
      "source": [
        "def predict(node, instance):\n",
        "    \"\"\"\n",
        "    Predict a given instance using the decision tree\n",
        " \n",
        "    Input:\n",
        "    - root: the root of the decision tree.\n",
        "    - instance: an row vector from the dataset. Note that the last element \n",
        "                of this vector is the label of the instance.\n",
        " \n",
        "    Output: the prediction of the instance.\n",
        "    \"\"\"\n",
        "    pred = None\n",
        "    ###########################################################################\n",
        "    # TODO: Implement the function.                                           #\n",
        "    ###########################################################################\n",
        "    while (node.get_prediction() is None): # OR while (node.is_leaf == False):\n",
        "        split_feature = node.feature\n",
        "        instance_value = instance[split_feature]\n",
        "        \n",
        "        matching_child = [i for i in range(len(node.children)) if node.children[i].feature_name == instance_value]\n",
        "\n",
        "        try:\n",
        "            node = node.children[matching_child[0]]\n",
        "        except:\n",
        "            # current instance has value which does not appear in the tree at this node:\n",
        "            # the training data probably did not have any such values when the tree was build\n",
        "            # so we'll take the majority of predictions at this point and return it for this instance\n",
        "\n",
        "            # it means that len(matching_child) == 0\n",
        "            frequent = get_frequent_prediction(node.data)\n",
        "            return frequent\n",
        "    ###########################################################################\n",
        "    #                             END OF YOUR CODE                            #\n",
        "    ###########################################################################\n",
        "    return node.get_prediction()"
      ],
      "execution_count": 25,
      "outputs": []
    },
    {
      "cell_type": "code",
      "metadata": {
        "id": "kjpe5Pb3CI9t"
      },
      "source": [
        "def calc_accuracy(node, dataset):\n",
        "    \"\"\"\n",
        "    Predict a given dataset using the decision tree\n",
        " \n",
        "    Input:\n",
        "    - node: a node in the decision tree.\n",
        "    - dataset: the dataset on which the accuracy is evaluated\n",
        " \n",
        "    Output: the accuracy of the decision tree on the given dataset (%).\n",
        "    \"\"\"\n",
        "    accuracy = 0\n",
        "    ###########################################################################\n",
        "    # TODO: Implement the function.                                           #\n",
        "    ###########################################################################\n",
        "    total = dataset.shape[0]\n",
        "    hits = 0\n",
        "\n",
        "    for row in range(len(dataset)):\n",
        "        label = dataset[row][-1]\n",
        "        instance = dataset[row]\n",
        "        try:\n",
        "            prediction = predict(node, instance)\n",
        "        except:\n",
        "            print('error on predict')\n",
        "        \n",
        "        if label == prediction:\n",
        "            hits += 1\n",
        "    \n",
        "    accuracy = hits/total\n",
        "    ###########################################################################\n",
        "    #                             END OF YOUR CODE                            #\n",
        "    ###########################################################################\n",
        "    return accuracy "
      ],
      "execution_count": 26,
      "outputs": []
    },
    {
      "cell_type": "markdown",
      "metadata": {
        "id": "UoBmwcFsCI9t"
      },
      "source": [
        "After building the three trees using the training set, you should calculate the accuracy on the test set. For each tree print the training and test accuracy. Select the tree that gave you the best test accuracy. For the rest of the exercise, use that tree (when you asked to build another tree use the same impurity function and same gain_ratio flag). "
      ]
    },
    {
      "cell_type": "code",
      "metadata": {
        "id": "EvmbEJdNCI9t",
        "colab": {
          "base_uri": "https://localhost:8080/"
        },
        "outputId": "da8994e6-2621-4e45-ca9a-9bb61f7f9731"
      },
      "source": [
        "test_set_accuracies = {\n",
        "    tree_gini: calc_accuracy(tree_gini, X_test),\n",
        "    tree_entropy: calc_accuracy(tree_entropy, X_test),\n",
        "    tree_entropy_gain_ratio: calc_accuracy(tree_entropy_gain_ratio, X_test)\n",
        "}\n",
        "\n",
        "print(f'X_train Gini: {calc_accuracy(tree_gini, X_train) * 100}%')\n",
        "print(f'X_test Gini: {test_set_accuracies[tree_gini] * 100}%')\n",
        "\n",
        "print(f'X_train Entropy: {calc_accuracy(tree_entropy, X_train) * 100}%')\n",
        "print(f'X_test Entropy: {test_set_accuracies[tree_entropy] * 100}%')\n",
        "\n",
        "print(f'X_train Entropy_gain_ratio: : {calc_accuracy(tree_entropy_gain_ratio, X_train) * 100}%')\n",
        "print(f'X_test Entropy_gain_ratio: {test_set_accuracies[tree_entropy_gain_ratio] * 100}%')"
      ],
      "execution_count": 27,
      "outputs": [
        {
          "output_type": "stream",
          "text": [
            "X_train Gini: 99.24503528639423%\n",
            "X_test Gini: 77.69571639586411%\n",
            "X_train Entropy: 99.40915805022156%\n",
            "X_test Entropy: 78.13884785819793%\n",
            "X_train Entropy_gain_ratio: : 99.40915805022156%\n",
            "X_test Entropy_gain_ratio: 78.13884785819793%\n"
          ],
          "name": "stdout"
        }
      ]
    },
    {
      "cell_type": "code",
      "metadata": {
        "id": "CLwnZSna9n0c"
      },
      "source": [
        "best_test_tree = max(test_set_accuracies, key=test_set_accuracies.get)"
      ],
      "execution_count": 28,
      "outputs": []
    },
    {
      "cell_type": "code",
      "metadata": {
        "colab": {
          "base_uri": "https://localhost:8080/"
        },
        "id": "ZMnp3XeItcjD",
        "outputId": "f2954476-f84f-41e7-bc1a-7ae85081ce3a"
      },
      "source": [
        "print(max(test_set_accuracies, key=test_set_accuracies.get)) # best_tree is a copy of this tree\n",
        "print(tree_gini)\n",
        "print(tree_entropy)\n",
        "print(tree_entropy_gain_ratio)"
      ],
      "execution_count": 29,
      "outputs": [
        {
          "output_type": "stream",
          "text": [
            "<__main__.DecisionNode object at 0x7fd2af948b90>\n",
            "<__main__.DecisionNode object at 0x7fd2bf5a9c90>\n",
            "<__main__.DecisionNode object at 0x7fd2af948b90>\n",
            "<__main__.DecisionNode object at 0x7fd2af6354d0>\n"
          ],
          "name": "stdout"
        }
      ]
    },
    {
      "cell_type": "markdown",
      "metadata": {
        "id": "-mPEOcvFo_jz"
      },
      "source": [
        "---"
      ]
    },
    {
      "cell_type": "markdown",
      "metadata": {
        "id": "yG6PL2smCI9t"
      },
      "source": [
        "## Post pruning\n",
        "\n",
        "Iterate over all nodes in the tree that have at least a single child which is a leaf. For each such node, replace it with its most popular class. Calculate the accuracy on the testing dataset, pick the node that results in the highest testing accuracy and permanently change it in the tree. Repeat this process until you are left with a single node in the tree (the root). Finally, create a plot of the training and testing accuracies as a function of the number of nodes in the tree. (15 points)"
      ]
    },
    {
      "cell_type": "code",
      "metadata": {
        "id": "Ak3HFlwcM-UV"
      },
      "source": [
        "def count_nodes(node):\n",
        "    \"\"\"\n",
        "    Count the number of node in a given tree\n",
        " \n",
        "    Input:\n",
        "    - node: a node in the decision tree.\n",
        " \n",
        "    Output: the number of node in the tree.\n",
        "    \"\"\"\n",
        "    count = 1\n",
        "\n",
        "    # just the classic recursive algorithm of incrementing a counter per visited node\n",
        "    for n in node.children:\n",
        "        count += count_nodes(n)\n",
        "\n",
        "    return count\n",
        "\n",
        "\n",
        "def get_parent_nodes_of_leaves(node):\n",
        "    parent_nodes_of_leaves = []\n",
        "\n",
        "    for n in node.children:\n",
        "        parent_nodes_of_leaves.extend(get_parent_nodes_of_leaves(n))\n",
        "\n",
        "    # for each child, if it is a leaf, add it to the list of parent nodes with leaf \n",
        "    for n in node.children:\n",
        "        if n.get_is_leaf():\n",
        "            parent_nodes_of_leaves.extend([node])\n",
        "            # we need to know there is just at least one leaf\n",
        "            break\n",
        "\n",
        "    return parent_nodes_of_leaves"
      ],
      "execution_count": 30,
      "outputs": []
    },
    {
      "cell_type": "code",
      "metadata": {
        "colab": {
          "base_uri": "https://localhost:8080/"
        },
        "id": "QJNBw-6ZnETw",
        "outputId": "aaf05255-e502-4e43-aec6-b37cc27dd30c"
      },
      "source": [
        "print(count_nodes(tree_gini))\n",
        "print(count_nodes(tree_entropy))"
      ],
      "execution_count": 31,
      "outputs": [
        {
          "output_type": "stream",
          "text": [
            "3231\n",
            "3227\n"
          ],
          "name": "stdout"
        }
      ]
    },
    {
      "cell_type": "code",
      "metadata": {
        "id": "lUGXISk3ypBU"
      },
      "source": [
        "# def show_post_pruning_plot(nodes_counts, training_set_post_pruning_accuracies, test_set_post_pruning_accuracies):\n",
        "#     highest_testing_accuracy = max(test_set_post_pruning_accuracies)\n",
        "#     number_of_nodes_in_best_tree = nodes_counts[np.where(test_set_post_pruning_accuracies == highest_testing_accuracy)[0][-1]]\n",
        "\n",
        "#     # Provide a visualization of the accuracies as a function of the number of nodes\n",
        "#     plt.plot(nodes_counts, training_set_post_pruning_accuracies, label='Training accuracy')\n",
        "#     plt.plot(nodes_counts, test_set_post_pruning_accuracies, label='Test accuracy')\n",
        "#     plt.scatter(number_of_nodes_in_best_tree, highest_testing_accuracy, linewidths=10, color='red', label=f'best test accuracy ({number_of_nodes_in_best_tree} nodes)')\n",
        "\n",
        "#     plt.title('Accuracy vs Number of nodes', fontsize=20)\n",
        "#     plt.xlabel('Number of nodes')\n",
        "#     plt.ylabel('Accuracy (%)')\n",
        "#     plt.legend()\n",
        "#     plt.show()"
      ],
      "execution_count": 32,
      "outputs": []
    },
    {
      "cell_type": "code",
      "metadata": {
        "id": "neLVhkhcixEx"
      },
      "source": [
        "import copy\n",
        "\n",
        "def post_pruning(node, training_data, test_data):\n",
        "    # First, count number of nodes and calculate accuracies on the original (pre-pruned) tree (training AND test)\n",
        "    # to keep track for best node to remove at each iteration \n",
        "    # and to find the best overall tree, its accuracy and its number of nodes\n",
        "    counts = [count_nodes(node)]\n",
        "    training_set_post_pruning_accuracies = [calc_accuracy(node, training_data)] \n",
        "    test_set_post_pruning_accuracies = [calc_accuracy(node, test_data)]\n",
        "    pruned_trees = []\n",
        "\n",
        "    while len(node.children) != 0:\n",
        "        parent_nodes_of_leaves = get_parent_nodes_of_leaves(node)\n",
        "        temp_accuracies = []\n",
        "\n",
        "        # Take the fully grown tree and iterate over all nodes that have at least a single child which is a leaf.\n",
        "        for i in range(len(parent_nodes_of_leaves)):\n",
        "            # For each such node, temporarily replace it with a leaf using the popular class of the training data that reached that node. \n",
        "            current_node = parent_nodes_of_leaves[i]\n",
        "            temp = current_node.children\n",
        "            current_node.children = []\n",
        "            current_node.set_is_leaf(True)\n",
        "            frequent = get_frequent_prediction(current_node.data)\n",
        "            current_node.set_prediction(frequent)\n",
        "\n",
        "            # Calculate the accuracy on the testing data\n",
        "            temp_accuracies.append(calc_accuracy(node, test_data))\n",
        "\n",
        "            # return to original state\n",
        "            current_node.children = temp\n",
        "            current_node.set_is_leaf(False)\n",
        "            current_node.set_prediction(None)\n",
        "        \n",
        "        # After performing it on all possible nodes, pick the node with the best testing accuracy \n",
        "        # and permanently change it in the tree.\n",
        "        max_index = np.argmax(temp_accuracies)\n",
        "        new_leaf = parent_nodes_of_leaves[max_index]\n",
        "        new_leaf.children = []\n",
        "        new_leaf.set_is_leaf(True)\n",
        "        frequent = get_frequent_prediction(new_leaf.data)\n",
        "        new_leaf.set_prediction(frequent)\n",
        "\n",
        "        counts.append(count_nodes(node))\n",
        "        test_set_post_pruning_accuracies.append(temp_accuracies[max_index])\n",
        "        training_set_post_pruning_accuracies.append(calc_accuracy(node, training_data))\n",
        "        pruned_trees += [copy.deepcopy(node)]\n",
        "\n",
        "    highest_testing_accuracy = np.max(test_set_post_pruning_accuracies)\n",
        "    number_of_nodes_in_best_tree = counts[np.where(test_set_post_pruning_accuracies == highest_testing_accuracy)[0][-1]]\n",
        "\n",
        "    for t in pruned_trees:\n",
        "        if calc_accuracy(t, test_data) == highest_testing_accuracy and count_nodes(t) == number_of_nodes_in_best_tree:\n",
        "            tree_post_pruning = t\n",
        "            break\n",
        "    \n",
        "    # Provide a visualization of the accuracies as a function of the number of nodes\n",
        "    plt.plot(counts, training_set_post_pruning_accuracies, label='Training accuracy')\n",
        "    plt.plot(counts, test_set_post_pruning_accuracies, label='Test accuracy')\n",
        "    plt.scatter(number_of_nodes_in_best_tree, highest_testing_accuracy, linewidths=10, color='red', label=f'best test accuracy ({number_of_nodes_in_best_tree} nodes)')\n",
        "    \n",
        "    plt.title('Accuracy vs Number of nodes', fontsize=20)\n",
        "    plt.xlabel('Number of nodes')\n",
        "    plt.ylabel('Accuracy (%)')\n",
        "    plt.legend()\n",
        "    plt.show()\n",
        "\n",
        "    return tree_post_pruning, highest_testing_accuracy"
      ],
      "execution_count": 33,
      "outputs": []
    },
    {
      "cell_type": "markdown",
      "metadata": {
        "id": "KQlAobkvpAo-"
      },
      "source": [
        "---"
      ]
    },
    {
      "cell_type": "markdown",
      "metadata": {
        "id": "uiUTUM6eCI9u"
      },
      "source": [
        "## Chi square pre-pruning\n",
        "\n",
        "Consider the following p-value cut-off values: [1 (no pruning), 0.5, 0.25, 0.1, 0.05, 0.0001 (max pruning)]. For each value, construct a tree and prune it according to the cut-off value. Next, calculate the training and testing accuracy. On a single plot, draw the training and testing accuracy as a function of the tuple (p-value, tree depth). Mark the best result on the graph with red circle. (15 points)"
      ]
    },
    {
      "cell_type": "code",
      "metadata": {
        "id": "P8i_S8VI1uaS"
      },
      "source": [
        "# chi_table was moved to top of notebook (\"Building a Decision Tree\" part)."
      ],
      "execution_count": 34,
      "outputs": []
    },
    {
      "cell_type": "markdown",
      "metadata": {
        "id": "RXpY1zJUqHpR"
      },
      "source": [
        "---"
      ]
    },
    {
      "cell_type": "markdown",
      "metadata": {
        "id": "XkvmPIyOCI9u"
      },
      "source": [
        "Build the best 2 trees:\n",
        "1.   tree_post_pruning - the best tree according to post pruning\n",
        "2.   tree_chi - the best tree according to chi square pruning"
      ]
    },
    {
      "cell_type": "code",
      "metadata": {
        "colab": {
          "base_uri": "https://localhost:8080/",
          "height": 300
        },
        "id": "0oXahCJo07td",
        "outputId": "0f4d2198-3185-488c-d829-75e7012f9b2a"
      },
      "source": [
        "tree_post_pruning, highest_testing_accuracy = post_pruning(best_test_tree, X_train, X_test)"
      ],
      "execution_count": 35,
      "outputs": [
        {
          "output_type": "display_data",
          "data": {
            "image/png": "[encoded data removed]",
            "text/plain": [
              "<Figure size 432x288 with 1 Axes>"
            ]
          },
          "metadata": {
            "tags": [],
            "needs_background": "light"
          }
        }
      ]
    },
    {
      "cell_type": "code",
      "metadata": {
        "colab": {
          "base_uri": "https://localhost:8080/"
        },
        "id": "--VSTuIgULTA",
        "outputId": "dbaafa92-bf18-46e7-ac94-43c9a56aeaf5"
      },
      "source": [
        "print(f'tree_post_pruning accuracy = {calc_accuracy(tree_post_pruning, X_test) * 100}%')"
      ],
      "execution_count": 36,
      "outputs": [
        {
          "output_type": "stream",
          "text": [
            "tree_post_pruning accuracy = 88.72476612506155%\n"
          ],
          "name": "stdout"
        }
      ]
    },
    {
      "cell_type": "code",
      "metadata": {
        "colab": {
          "base_uri": "https://localhost:8080/"
        },
        "id": "h77LduE1i9ec",
        "outputId": "8c2cfcef-6522-498a-e1a6-37b97de6e131"
      },
      "source": [
        "count_nodes(tree_post_pruning)"
      ],
      "execution_count": 37,
      "outputs": [
        {
          "output_type": "execute_result",
          "data": {
            "text/plain": [
              "57"
            ]
          },
          "metadata": {
            "tags": []
          },
          "execution_count": 37
        }
      ]
    },
    {
      "cell_type": "code",
      "metadata": {
        "id": "qtkTnBXBESbB"
      },
      "source": [
        "def calcualte_max_tree_depth(node):\n",
        "    if len(node.children) == 0:\n",
        "        return 0\n",
        "    else:\n",
        "        depths = [0]\n",
        "        \n",
        "        for child in node.children:\n",
        "            depths.append(calcualte_max_tree_depth(child))\n",
        "\n",
        "    return max(depths) + 1"
      ],
      "execution_count": 38,
      "outputs": []
    },
    {
      "cell_type": "code",
      "metadata": {
        "id": "jgJZBbszCI9u",
        "colab": {
          "base_uri": "https://localhost:8080/",
          "height": 455
        },
        "outputId": "5370e08b-3f1a-4ad9-a322-e25425f0ad56"
      },
      "source": [
        "tuples = []\n",
        "trees = []\n",
        "train_accuracies = []\n",
        "test_accuracies = []\n",
        "\n",
        "p_values = [1, 0.5, 0.25, 0.1, 0.05, 0.0001]\n",
        "\n",
        "for p in p_values:\n",
        "    tree = build_tree(data=X_train, impurity=calc_entropy, chi=p)\n",
        "    number_of_nodes = count_nodes(tree)\n",
        "    depth = calcualte_max_tree_depth(tree)\n",
        "    trees.extend([tree])\n",
        "    train_accuracies.append(calc_accuracy(tree, X_train))\n",
        "    test_accuracies.append(calc_accuracy(tree, X_test))\n",
        "    tuples.append([p, depth])\n",
        "    print(p, number_of_nodes, depth)\n",
        "\n",
        "\n",
        "best_p_value_index_on_test_data = np.argmax(test_accuracies)\n",
        "tree_chi = trees[best_p_value_index_on_test_data]\n",
        "\n",
        "# print(tree_chi)\n",
        "print(tuples)\n",
        "\n",
        "plt.plot(p_values, train_accuracies, label='Training accuracy')\n",
        "plt.plot(p_values, test_accuracies, label='Test accuracy')\n",
        "plt.scatter(p_values[best_p_value_index_on_test_data], test_accuracies[best_p_value_index_on_test_data], \n",
        "            linewidths=10, color='red', label=f'best test accuracy ({count_nodes(tree_chi)} nodes)')\n",
        "\n",
        "plt.title('Accuracy vs P-value', fontsize=20)\n",
        "plt.xlabel('(p-value, depth)')\n",
        "plt.ylabel('Accuracy (%)')\n",
        "plt.xticks(p_values, [f'({tuples[i][0]}, {tuples[i][1]})' for i in range(len(tuples))], rotation=45)\n",
        "\n",
        "plt.legend()\n",
        "plt.show()"
      ],
      "execution_count": 39,
      "outputs": [
        {
          "output_type": "stream",
          "text": [
            "1 3227 10\n",
            "0.5 1906 10\n",
            "0.25 309 9\n",
            "0.1 86 6\n",
            "0.05 45 4\n",
            "0.0001 1 0\n",
            "[[1, 10], [0.5, 10], [0.25, 9], [0.1, 6], [0.05, 4], [0.0001, 0]]\n"
          ],
          "name": "stdout"
        },
        {
          "output_type": "display_data",
          "data": {
            "image/png": "[encoded data removed]",
            "text/plain": [
              "<Figure size 432x288 with 1 Axes>"
            ]
          },
          "metadata": {
            "tags": [],
            "needs_background": "light"
          }
        }
      ]
    },
    {
      "cell_type": "code",
      "metadata": {
        "id": "_mGLWiQktnFr",
        "colab": {
          "base_uri": "https://localhost:8080/"
        },
        "outputId": "561af9eb-3ddd-490a-bf77-792584dda4cc"
      },
      "source": [
        "print(f'Best chi_tree test accuracy: {calc_accuracy(tree_chi, X_test) * 100}%')"
      ],
      "execution_count": 40,
      "outputs": [
        {
          "output_type": "stream",
          "text": [
            "Best chi_tree test accuracy: 89.51255539143278%\n"
          ],
          "name": "stdout"
        }
      ]
    },
    {
      "cell_type": "markdown",
      "metadata": {
        "id": "lifvCqCho2x8"
      },
      "source": [
        "---"
      ]
    },
    {
      "cell_type": "markdown",
      "metadata": {
        "id": "lds0_ykrCI9u"
      },
      "source": [
        "## Number of Nodes\n",
        "\n",
        "Of the two trees above we will choose the one with fewer nodes. Complete the function counts_nodes and print the number of nodes in each tree. (5 points) "
      ]
    },
    {
      "cell_type": "code",
      "metadata": {
        "id": "0U8qB0x1CI9v"
      },
      "source": [
        "# Implemented above as a helper function for the post_pruning function"
      ],
      "execution_count": 41,
      "outputs": []
    },
    {
      "cell_type": "markdown",
      "metadata": {
        "id": "LpHo0CmxoyxM"
      },
      "source": [
        "---"
      ]
    },
    {
      "cell_type": "markdown",
      "metadata": {
        "id": "xtP4j8MRCI9v"
      },
      "source": [
        "## Print the tree\n",
        "\n",
        "Complete the function `print_tree` and execute it on your chosen tree. Your tree should be visualized clearly. You can use the following example as a reference:\n",
        "```\n",
        "[ROOT, feature=X0],\n",
        "  [X0=a, feature=X2]\n",
        "    [X2=c, leaf]: [{1.0: 10}]\n",
        "    [X2=d, leaf]: [{0.0: 10}]\n",
        "  [X0=y, feature=X5], \n",
        "    [X5=a, leaf]: [{1.0: 5}]\n",
        "    [X5=s, leaf]: [{0.0: 10}]\n",
        "  [X0=e, leaf]: [{0.0: 25, 1.0: 50}]\n",
        "```\n",
        "In each brackets:\n",
        "* The first argument is the parent feature with the value that led to current node\n",
        "* The second argument is the selected feature of the current node\n",
        "* If the current node is a leaf, you need to print also the labels and their counts\n",
        "\n",
        "(5 points)"
      ]
    },
    {
      "cell_type": "code",
      "metadata": {
        "id": "1Nw1iuvzCI9v"
      },
      "source": [
        "# you can change the function signeture\n",
        "def print_tree(node, depth=0, parent_feature='ROOT', feature_val='ROOT'):\n",
        "    '''\n",
        "    prints the tree according to the example above\n",
        "\n",
        "    Input:\n",
        "    - node: a node in the decision tree\n",
        "\n",
        "    This function has no return value\n",
        "    '''\n",
        "\n",
        "    if node.get_is_leaf():\n",
        "        print(depth *' ' + f'[X{node.parent}={node.feature_name}, leaf]: [{node.class_counts}]')\n",
        "    else:\n",
        "        print(depth *' ' + f'[X{node.parent}={node.feature_name}, feature=X{node.feature}]')\n",
        "\n",
        "        for n in node.children:\n",
        "            print_tree(n, depth + 1)"
      ],
      "execution_count": 42,
      "outputs": []
    },
    {
      "cell_type": "code",
      "metadata": {
        "colab": {
          "base_uri": "https://localhost:8080/"
        },
        "id": "3qwLkl_HSJhX",
        "outputId": "5db12fc5-0254-4b29-89fc-3a3ce8044b0c"
      },
      "source": [
        "print_tree(tree_post_pruning)"
      ],
      "execution_count": 43,
      "outputs": [
        {
          "output_type": "stream",
          "text": [
            "[X-1=ROOT, feature=X4]\n",
            " [X4=a, leaf]: [{'e': 273, 'p': 31}]\n",
            " [X4=c, leaf]: [{'e': 10, 'p': 137}]\n",
            " [X4=f, leaf]: [{'e': 170, 'p': 1438}]\n",
            " [X4=l, leaf]: [{'e': 272, 'p': 27}]\n",
            " [X4=m, feature=X0]\n",
            "  [X0=f, feature=X2]\n",
            "   [X2=c, feature=X5]\n",
            "    [X5=a, leaf]: [{'p': 2}]\n",
            "    [X5=f, leaf]: [{'e': 1}]\n",
            "   [X2=e, leaf]: [{'p': 4}]\n",
            "   [X2=n, leaf]: [{'p': 2}]\n",
            "  [X0=k, leaf]: [{'e': 1, 'p': 10}]\n",
            "  [X0=x, leaf]: [{'p': 7}]\n",
            " [X4=n, leaf]: [{'e': 2332, 'p': 344}]\n",
            " [X4=p, leaf]: [{'e': 8, 'p': 175}]\n",
            " [X4=s, feature=X13]\n",
            "  [X13=p, feature=X11]\n",
            "   [X11=k, feature=X20]\n",
            "    [X20=d, leaf]: [{'e': 3, 'p': 31}]\n",
            "    [X20=l, leaf]: [{'e': 4, 'p': 30}]\n",
            "    [X20=p, feature=X0]\n",
            "     [X0=f, leaf]: [{'p': 12}]\n",
            "     [X0=k, leaf]: [{'p': 12}]\n",
            "     [X0=x, feature=X1]\n",
            "      [X1=s, leaf]: [{'p': 7}]\n",
            "      [X1=y, feature=X2]\n",
            "       [X2=e, leaf]: [{'p': 3}]\n",
            "       [X2=n, feature=X10]\n",
            "        [X10=k, leaf]: [{'e': 1}]\n",
            "        [X10=s, leaf]: [{'p': 1}]\n",
            "   [X11=s, leaf]: [{'e': 4, 'p': 94}]\n",
            "  [X13=w, feature=X12]\n",
            "   [X12=p, feature=X0]\n",
            "    [X0=f, feature=X1]\n",
            "     [X1=s, leaf]: [{'e': 5, 'p': 15}]\n",
            "     [X1=y, feature=X11]\n",
            "      [X11=k, feature=X2]\n",
            "       [X2=e, leaf]: [{'p': 3}]\n",
            "       [X2=n, feature=X20]\n",
            "        [X20=d, leaf]: [{'e': 1, 'p': 1}]\n",
            "        [X20=l, leaf]: [{'e': 1}]\n",
            "        [X20=p, leaf]: [{'p': 1}]\n",
            "      [X11=s, leaf]: [{'p': 9}]\n",
            "    [X0=k, leaf]: [{'e': 4, 'p': 28}]\n",
            "    [X0=x, feature=X11]\n",
            "     [X11=k, feature=X20]\n",
            "      [X20=d, feature=X2]\n",
            "       [X2=e, feature=X10]\n",
            "        [X10=k, leaf]: [{'p': 1}]\n",
            "        [X10=s, leaf]: [{'e': 1}]\n",
            "       [X2=n, leaf]: [{'p': 1}]\n",
            "      [X20=l, leaf]: [{'p': 7}]\n",
            "      [X20=p, leaf]: [{'p': 5}]\n",
            "     [X11=s, leaf]: [{'e': 6, 'p': 17}]\n",
            "   [X12=w, leaf]: [{'e': 8, 'p': 102}]\n",
            " [X4=y, leaf]: [{'e': 49, 'p': 382}]\n"
          ],
          "name": "stdout"
        }
      ]
    },
    {
      "cell_type": "code",
      "metadata": {
        "id": "NAylpMJJUgXx",
        "colab": {
          "base_uri": "https://localhost:8080/"
        },
        "outputId": "834054e3-5d80-4665-cf22-ff0cd7ac3c04"
      },
      "source": [
        "print_tree(tree_chi)"
      ],
      "execution_count": 44,
      "outputs": [
        {
          "output_type": "stream",
          "text": [
            "[X-1=ROOT, feature=X4]\n",
            " [X4=a, leaf]: [{'e': 273, 'p': 31}]\n",
            " [X4=c, leaf]: [{'e': 10, 'p': 137}]\n",
            " [X4=f, leaf]: [{'e': 170, 'p': 1438}]\n",
            " [X4=l, feature=X1]\n",
            "  [X1=f, leaf]: [{'e': 19, 'p': 1}]\n",
            "  [X1=s, leaf]: [{'e': 94, 'p': 16}]\n",
            "  [X1=y, leaf]: [{'e': 159, 'p': 10}]\n",
            " [X4=m, leaf]: [{'e': 2, 'p': 25}]\n",
            " [X4=n, feature=X18]\n",
            "  [X18=b, leaf]: [{'e': 34, 'p': 2}]\n",
            "  [X18=h, feature=X2]\n",
            "   [X2=r, leaf]: [{'e': 9, 'p': 4}]\n",
            "   [X2=u, leaf]: [{'e': 14}]\n",
            "   [X2=w, leaf]: [{'e': 12, 'p': 1}]\n",
            "  [X18=k, leaf]: [{'e': 875, 'p': 96}]\n",
            "  [X18=n, feature=X8]\n",
            "   [X8=g, leaf]: [{'e': 9, 'p': 1}]\n",
            "   [X8=h, leaf]: [{'e': 68, 'p': 8}]\n",
            "   [X8=k, leaf]: [{'e': 79, 'p': 7}]\n",
            "   [X8=n, leaf]: [{'e': 236, 'p': 24}]\n",
            "   [X8=o, leaf]: [{'e': 12}]\n",
            "   [X8=p, feature=X2]\n",
            "    [X2=e, leaf]: [{'e': 45, 'p': 4}]\n",
            "    [X2=g, feature=X1]\n",
            "     [X1=f, leaf]: [{'e': 47}]\n",
            "     [X1=s, feature=X10]\n",
            "      [X10=f, leaf]: [{'e': 6}]\n",
            "      [X10=s, leaf]: [{'e': 2, 'p': 2}]\n",
            "     [X1=y, feature=X13]\n",
            "      [X13=g, leaf]: [{'e': 10}]\n",
            "      [X13=p, leaf]: [{'e': 6, 'p': 2}]\n",
            "      [X13=w, leaf]: [{'e': 9}]\n",
            "    [X2=n, leaf]: [{'e': 79, 'p': 6}]\n",
            "    [X2=w, leaf]: [{'e': 20, 'p': 5}]\n",
            "   [X8=u, leaf]: [{'e': 138, 'p': 21}]\n",
            "   [X8=w, feature=X12]\n",
            "    [X12=g, feature=X0]\n",
            "     [X0=f, leaf]: [{'e': 20, 'p': 8}]\n",
            "     [X0=x, leaf]: [{'e': 26, 'p': 2}]\n",
            "    [X12=p, leaf]: [{'e': 53, 'p': 4}]\n",
            "    [X12=w, feature=X13]\n",
            "     [X13=g, leaf]: [{'e': 19}]\n",
            "     [X13=p, leaf]: [{'e': 11, 'p': 4}]\n",
            "     [X13=w, leaf]: [{'e': 11, 'p': 8}]\n",
            "   [X8=y, leaf]: [{'e': 10, 'p': 4}]\n",
            "  [X18=o, feature=X19]\n",
            "   [X19=c, leaf]: [{'e': 12, 'p': 4}]\n",
            "   [X19=v, leaf]: [{'e': 16}]\n",
            "  [X18=r, leaf]: [{'e': 6, 'p': 46}]\n",
            "  [X18=w, feature=X20]\n",
            "   [X20=d, feature=X7]\n",
            "    [X7=b, leaf]: [{'e': 6, 'p': 2}]\n",
            "    [X7=n, leaf]: [{'p': 25}]\n",
            "   [X20=g, leaf]: [{'e': 204, 'p': 19}]\n",
            "   [X20=l, feature=X2]\n",
            "    [X2=c, leaf]: [{'e': 19, 'p': 1}]\n",
            "    [X2=n, leaf]: [{'e': 15, 'p': 4}]\n",
            "    [X2=w, leaf]: [{'p': 8}]\n",
            "    [X2=y, leaf]: [{'p': 7}]\n",
            "   [X20=p, leaf]: [{'e': 29, 'p': 1}]\n",
            "   [X20=w, feature=X13]\n",
            "    [X13=e, feature=X0]\n",
            "     [X0=f, leaf]: [{'e': 18, 'p': 5}]\n",
            "     [X0=k, leaf]: [{'e': 21}]\n",
            "     [X0=x, feature=X8]\n",
            "      [X8=e, leaf]: [{'e': 9, 'p': 4}]\n",
            "      [X8=w, leaf]: [{'e': 14}]\n",
            "    [X13=w, leaf]: [{'e': 68, 'p': 2}]\n",
            "  [X18=y, leaf]: [{'e': 35, 'p': 3}]\n",
            " [X4=p, feature=X0]\n",
            "  [X0=f, feature=X18]\n",
            "   [X18=k, leaf]: [{'e': 6, 'p': 43}]\n",
            "   [X18=n, leaf]: [{'e': 1, 'p': 43}]\n",
            "  [X0=x, leaf]: [{'e': 1, 'p': 89}]\n",
            " [X4=s, feature=X13]\n",
            "  [X13=p, leaf]: [{'e': 12, 'p': 190}]\n",
            "  [X13=w, feature=X12]\n",
            "   [X12=p, leaf]: [{'e': 18, 'p': 88}]\n",
            "   [X12=w, feature=X0]\n",
            "    [X0=f, leaf]: [{'p': 38}]\n",
            "    [X0=k, leaf]: [{'e': 3, 'p': 30}]\n",
            "    [X0=x, leaf]: [{'e': 5, 'p': 34}]\n",
            " [X4=y, feature=X1]\n",
            "  [X1=s, leaf]: [{'e': 18, 'p': 194}]\n",
            "  [X1=y, leaf]: [{'e': 31, 'p': 188}]\n"
          ],
          "name": "stdout"
        }
      ]
    },
    {
      "cell_type": "code",
      "metadata": {
        "id": "oib5D2WfogEd"
      },
      "source": [
        ""
      ],
      "execution_count": 44,
      "outputs": []
    }
  ]
}