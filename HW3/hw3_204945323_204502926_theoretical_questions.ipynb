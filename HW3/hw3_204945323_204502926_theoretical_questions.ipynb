{
 "cells": [
  {
   "cell_type": "markdown",
   "metadata": {},
   "source": [
    "# Machine Learning Exercise 3 - 2021"
   ]
  },
  {
   "cell_type": "markdown",
   "metadata": {},
   "source": [
    "Avitan & Nesher \n",
    "\n",
    "IDs: 204945323, 204502926\n",
    "\n",
    "---"
   ]
  },
  {
   "cell_type": "markdown",
   "metadata": {},
   "source": [
    "## Part 1 -  Probability Theory Questions"
   ]
  },
  {
   "cell_type": "markdown",
   "metadata": {},
   "source": [
    "### Q1\n",
    "Given a random sample {𝑥1, 𝑥2, … , 𝑥𝑛}, derive the maximum likelihood estimator p of the Binomial distribution.\n",
    "\n",
    "$$\n",
    "B\\big( x,p \\big) =  {n \\choose x} p^x (1-p)^{n-x}\n",
    "$$"
   ]
  },
  {
   "cell_type": "markdown",
   "metadata": {},
   "source": [
    "### Answer:\n",
    "$$\n",
    "L(p) = \\prod_{i=1}^{n}{B(x,p)} = \\prod_{i=1}^{n}\\left[{n \\choose x} p^x (1-p)^{n-x}\\right] = \\bigg(\\prod_{i=1}^{n}{n \\choose x}\\bigg) p^{\\sum_{i=1}^n x_i} (1-p)^{n - \\sum_{i=1}^n x_i}\n",
    "$$\n",
    "\n",
    "In order to make the classification process more efficient we can use ln() which is a monotonically increasing function:\n",
    "$$\n",
    "ln(L(p)) = ln\\bigg(\\prod_{i=1}^{n}{n \\choose x}\\bigg) + {\\sum_{i=1}^n x_i} ln(p) + \\big(n -{\\sum_{i=1}^n x_i} \\big) ln(1-p)\n",
    "$$\n",
    "\n",
    "Differentiating w.r.t p yields:</br>\n",
    "$$\n",
    "\\frac{dln(L(p))}{dp} = \\frac{1}{p}{\\sum_{i=1}^n x_i} + \\frac{1}{1-p}\\big(n -{\\sum_{i=1}^n x_i} \\big)\n",
    "$$\n",
    "(Since the likelihood function is regarded as a function only of the parameter p, the factor is a fixed constant and does not affect the MLE and is dropped)\n",
    "\n",
    "\n",
    "Setting the derivative to 0 shows that this function achieves a maximum at:\n",
    "$$\n",
    "\\frac{dln(L(p))}{dp} = \\frac{1}{p}{\\sum_{i=1}^n x_i} + \\frac{1}{1-p}\\big(n -{\\sum_{i=1}^n x_i} \\big) = 0 \\\\\n",
    "\\Rightarrow \\hat{p} = \\frac{\\sum_{i=1}^n x_i}{n} = \\frac{k}{n}\n",
    "$$\n",
    "\n",
    "\n",
    "Since $\\sum_{i=1}^n x_i$ is the total number of successes observed in the n trials, $\\hat{p}$ is the observed proportion of successes in the n trials.\n",
    "\n",
    "---"
   ]
  },
  {
   "cell_type": "markdown",
   "metadata": {},
   "source": [
    "### Q2\n",
    "A student wants to know her chances to pass and fail an exam if she studies and if she doesn’t study. </br>\n",
    "From last year’s results, she sees that P(pass)=60%.</br>\n",
    "She also found out that P(studied|pass)=95%, P(studied|failed)=60%.</br>\n",
    "You can assume that every student either studied or didn’t study, and either passed or failed.\n",
    "\n",
    "a. What is her probability of passing the exam if she studies?</br>\n",
    "b. What is her probability of passing if doesn’t study?"
   ]
  },
  {
   "cell_type": "markdown",
   "metadata": {},
   "source": [
    "### Answer:\n",
    "\n",
    "$P(study) = P(study \\space | \\space pass) \\cdot P(pass) + P(study \\space | \\space fail) \\cdot P(fail) = (0.95 \\cdot 0.6) + (0.6 \\cdot 0.4) = 0.57 + 0.24 = 0.81$</br></br>\n",
    "$P(doesn't \\space study) = 1 - P(study) = 0.19$</br></br>\n",
    "We can also calculate it to verify:</br>\n",
    "$P(doesn't \\space study) = P(doesn't \\space study \\space | \\space pass) \\cdot P(pass) + P(doesn't \\space study \\space | \\space fail) \\cdot P(fail) = (0.05 \\cdot 0.6) + (0.4 \\cdot 0.4) = 0.03 + 0.16 = 0.19$\n",
    "</br></br>\n",
    "a.</br>\n",
    "$\n",
    "P(pass \\space | \\space study) = \\frac{P(study \\space | \\space pass) \\cdot P(pass)}{P(study)} = \\frac{0.95 \\cdot 0.6}{0.81} = \\frac{0.57}{0.81} = 0.703\n",
    "$\n",
    "The probability of passing the exam if she studies is 70.3%\n",
    "\n",
    "b.</br>\n",
    "$\n",
    "P(pass \\space | \\space doesn't \\space study) = \\frac{P(doesn't \\space study \\space | \\space pass) \\cdot P(pass)}{P(doesn't \\space study)} = \\frac{0.05 \\cdot 0.6}{0.19} = \\frac{0.3}{0.19} = 0.157\n",
    "$</br>\n",
    "The probability of passing the exam if she doesn't study is 15.7%\n",
    "\n",
    "---"
   ]
  },
  {
   "cell_type": "markdown",
   "metadata": {},
   "source": [
    "### Q3\n",
    "Find 3 random variables 𝑋, 𝑌, 𝐶 such that:</br>\n",
    "a. 𝑋 ⊥ 𝑌 | 𝐶 – (𝑋 and 𝑌 are independent given 𝐶.)  \n",
    "b. 𝑋 and 𝑌 are not independent.  \n",
    "c. 𝑋, 𝑌 are integers such that 3 ≤ 𝑋, 𝑌 ≤ 9 and 𝐶 is binary.  \n",
    "d. The following conditions hold:  \n",
    "  \n",
    "    i. 𝑃(1 ≤ 𝑋 ≤ 5) = 0.4  \n",
    "    ii. 𝑃(1 ≤ 𝑌 ≤ 5) = 0.4  \n",
    "    iii. 𝑃(𝐶 = 0) = 0.3\n",
    "    \n",
    "You need to specify the value of P(X=x,Y=y,C=c).</br>\n",
    "How many relevant values exist?"
   ]
  },
  {
   "cell_type": "markdown",
   "metadata": {},
   "source": [
    "### Answer:\n",
    "\n",
    "Let</br>\n",
    "$X \\sim ()$</br>\n",
    "$Y \\sim ()$</br>\n",
    "\n",
    "$ \n",
    "C \\sim Uniform \\big( 0,1 \\big) \\\\\n",
    "P\\big(C=0\\big) = 0.3 \\\\ \n",
    "P\\big(C=1\\big) = 0.7\n",
    "$\n",
    "\n",
    "</br>\n",
    "$X$ and $Y$ are dependent, for example:</br>\n",
    "$$???$$\n",
    "</br>\n",
    "Let's check the conditions in d:\n",
    "$\n",
    "i. P \\big( 1 \\leq X \\leq 5) = P \\big( 1 \\leq X \\leq 5 \\space \\big| \\space C=0 \\big) \\cdot P(C=0) + P\\big( 1 \\leq X \\leq 5 \\space \\big| \\space C=1 \\big) \\cdot P(C=1) = \\big( ? \\cdot 0.3 \\big) + \\big( ? \\cdot 0.7 \\big) = 0.4  \\\\  \n",
    "ii. P \\big( 1 \\leq Y \\leq 5) = P \\big( 1 \\leq Y \\leq 5 \\space \\big| \\space C=0 \\big) \\cdot P(C=0) + P\\big( 1 \\leq Y \\leq 5 \\space \\big| \\space C=1 \\big) \\cdot P(C=1) = \\big( ? \\cdot 0.3 \\big) + \\big( ? \\cdot 0.7 \\big) = 0.4 \\\\  \n",
    "iii. P \\big( C=0 \\big) =  0.3\n",
    "$\n",
    "\n",
    "---"
   ]
  },
  {
   "cell_type": "markdown",
   "metadata": {},
   "source": [
    "### Q4\n",
    "The probability of Wolt arriving on time is 0.75"
   ]
  },
  {
   "cell_type": "markdown",
   "metadata": {},
   "source": [
    "a. What is the probability of having 2 on-time meals in a week (7 days)?</br>\n",
    "b. What is the probability of having at least 4 on-time meals in a week?</br>\n",
    "c. A company of 100 employees recorded the number of on-time meals they had during a particular week and averaged their results.</br>\n",
    "What do you expect the value of that average to be?"
   ]
  },
  {
   "cell_type": "markdown",
   "metadata": {},
   "source": [
    "  \n",
    " "
   ]
  },
  {
   "cell_type": "markdown",
   "metadata": {},
   "source": [
    "### Answer:\n",
    "a.</br>\n",
    "\n",
    "\n",
    "b.</br>\n",
    "\n",
    "\n",
    "c.</br>\n",
    "\n",
    "\n",
    "---"
   ]
  }
 ],
 "metadata": {
  "kernelspec": {
   "display_name": "Python 3",
   "language": "python",
   "name": "python3"
  },
  "language_info": {
   "codemirror_mode": {
    "name": "ipython",
    "version": 3
   },
   "file_extension": ".py",
   "mimetype": "text/x-python",
   "name": "python",
   "nbconvert_exporter": "python",
   "pygments_lexer": "ipython3",
   "version": "3.9.2"
  }
 },
 "nbformat": 4,
 "nbformat_minor": 4
}
