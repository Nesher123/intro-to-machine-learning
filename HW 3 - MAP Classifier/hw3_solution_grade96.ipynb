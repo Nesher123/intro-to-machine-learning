{
  "nbformat": 4,
  "nbformat_minor": 0,
  "metadata": {
    "kernelspec": {
      "display_name": "Python 3",
      "language": "python",
      "name": "python3"
    },
    "language_info": {
      "codemirror_mode": {
        "name": "ipython",
        "version": 3
      },
      "file_extension": ".py",
      "mimetype": "text/x-python",
      "name": "python",
      "nbconvert_exporter": "python",
      "pygments_lexer": "ipython3",
      "version": "3.9.2"
    },
    "colab": {
      "name": "hw3_204945323_204502926.ipynb",
      "provenance": [],
      "collapsed_sections": []
    }
  },
  "cells": [
    {
      "cell_type": "markdown",
      "metadata": {
        "id": "MOSdjCUbIIng"
      },
      "source": [
        "# Meital Avitan & Ofir Nesher \n",
        "\n",
        "# IDs: 204945323, 204502926\n",
        "\n",
        "---"
      ]
    },
    {
      "cell_type": "markdown",
      "metadata": {
        "id": "awuqX-aZ9kQF"
      },
      "source": [
        "# Exercise 3: MAP Classifier\n",
        "\n",
        "In this assignment you will implement a few of the MAP classifiers learned in class.\n",
        "\n",
        "## Read the following instructions carefully:\n",
        "\n",
        "1. This jupyter notebook contains all the step by step instructions needed for this part of the exercise.\n",
        "2. Write vectorized code whenever possible.\n",
        "3. You are responsible for the correctness of your code and should add as many tests as you see fit. Tests will not be graded nor checked.\n",
        "4. Write your functions in this notebook only.\n",
        "5. You are allowed to use functions and methods from the [Python Standard Library](https://docs.python.org/3/library/) and [numpy](https://www.numpy.org/devdocs/reference/) only. \n",
        "6. Your code must run without errors. During the environment setup, you were given a specific version of `numpy` to install. Changes of the configuration we provided are at your own risk. Code that cannot run will also earn you the grade of 0.\n",
        "7. Write your own code. Cheating will not be tolerated. \n",
        "8. Submission includes this notebook and the answers to the theoretical part. Answers to qualitative questions should be written in markdown cells (with $\\LaTeX$ support).\n",
        "9. You can add additional functions.\n",
        "10. Submission: zip only the completed jupyter notebook and the PDF with your solution for the theory part. Do not include the data or any directories. Name the file `ID1_ID2.zip` and submit **only one copy of the assignment**.\n",
        "\n",
        "## In this exercise you will perform the following:\n",
        "1. Implement a Naive Bayes Classifier based on Multi-Normal distribution\n",
        "1. Implement a Full Bayes Classifier based on Multi-Normal distribution\n",
        "1. Implement a Discrete Naive Bayes Classifier"
      ]
    },
    {
      "cell_type": "code",
      "metadata": {
        "id": "9JVZRxAf9kQN"
      },
      "source": [
        "import numpy as np\n",
        "import pandas as pd\n",
        "import matplotlib.pyplot as plt"
      ],
      "execution_count": 1,
      "outputs": []
    },
    {
      "cell_type": "markdown",
      "metadata": {
        "id": "K1NzR2DS9kQO"
      },
      "source": [
        "\n",
        "# Normal Naive Bayes Classifier Vs Normal Full Bayes Classifier\n",
        "In the following section we are going to compare 2 models on a given dataset. <br>\n",
        "The 2 classifiers we are going to test are:\n",
        "1. Naive Bayes classifer.<br>\n",
        "1. Full Bayes classifier.<br>\n",
        "Recall that a Naive Bayes classifier makes the following assumption :<br> \n",
        "## $$ p(x_1, x_2, ..., x_n|A_j) = \\Pi p(x_i | A_j) $$\n",
        "But the full Bayes classifier will not make this assumption.<br>"
      ]
    },
    {
      "cell_type": "markdown",
      "metadata": {
        "id": "rooAN-En9kQO"
      },
      "source": [
        "### The Data Story"
      ]
    },
    {
      "cell_type": "markdown",
      "metadata": {
        "id": "WvECzZVD9kQO"
      },
      "source": [
        "In a faraway land called **Randomistan** there is a rare animal called the **Randomammal**.<br> \n",
        "We have gathered data about this unique animal to help the **randomian** researchers in observing this beast. <br>\n",
        "For a 1000 days straight we have measured the temperature and the humidity in Randomistan and whether the Randomammal was spotted or not. <br>\n",
        "The well known randomian **Bob** is a bit of a lazy researcher so he likes to keep things simple, and so he assumes that the temperature and the humidity are independent given the class. <br>\n",
        "**Alice** on the other hand is a hard working researcher and does not make any assumptions, she's young and is trying to gain some fame in the randomian community.\n",
        "\n",
        "The dataset contains 2 features (**Temperature**, **Humidity**) alongside a binary label (**Spotted**) for each instance.<br>\n",
        "\n",
        "We are going to test 2 different classifiers :\n",
        "* Naive Bayes Classifier (Bob)\n",
        "* Full Bayes Classifier. (Alice)\n",
        "\n",
        "Both of our researchers assume that our features are normally distributed. But while Bob with his Naive classifier will assume that the features are independent, Alice and her Full Bayes classifier will not make this assumption.<br><br>\n",
        "Let's start off by loading the data (train, test) into a pandas dataframe and then converting them\n",
        "into numpy arrays.<br>\n",
        "The datafiles are :\n",
        "- randomammal_train.csv\n",
        "- randomammal_test.csv"
      ]
    },
    {
      "cell_type": "code",
      "metadata": {
        "id": "pPbGaUEK9kQP"
      },
      "source": [
        "# Load the train and test set into a pandas dataframe and convert them into a numpy array.\n",
        "train_set = pd.read_csv('data/randomammal_train.csv').values\n",
        "test_set = pd.read_csv('data/randomammal_test.csv').values"
      ],
      "execution_count": 2,
      "outputs": []
    },
    {
      "cell_type": "code",
      "metadata": {
        "colab": {
          "base_uri": "https://localhost:8080/"
        },
        "id": "XcdwI4otVDKF",
        "outputId": "be0a494e-0699-4ed4-f526-70620b9d18d4"
      },
      "source": [
        "train_set.shape"
      ],
      "execution_count": 3,
      "outputs": [
        {
          "output_type": "execute_result",
          "data": {
            "text/plain": [
              "(1600, 3)"
            ]
          },
          "metadata": {
            "tags": []
          },
          "execution_count": 3
        }
      ]
    },
    {
      "cell_type": "markdown",
      "metadata": {
        "id": "-ImikFpV9kQP"
      },
      "source": [
        "# Data Visualization\n",
        "Draw a scatter plot of the training data where __x__=Temerature and **y**=Humidity. <br>\n",
        "Use color to distinguish points from different classes.<br>\n",
        "Stop for a minute to think about Alice and Bob's approaches and which one you expect to work better."
      ]
    },
    {
      "cell_type": "code",
      "metadata": {
        "colab": {
          "base_uri": "https://localhost:8080/",
          "height": 539
        },
        "id": "n8RBltUU9kQQ",
        "outputId": "cbaf3155-f4f8-4d31-a324-7b5383d6ab77"
      },
      "source": [
        "plt.figure(figsize=(15,8))\n",
        "unspotted_indices = train_set[:,-1] == 0\n",
        "spotted_indices = train_set[:,-1] == 1\n",
        "plt.scatter(train_set[unspotted_indices,0], train_set[unspotted_indices,1], label=\"unspotted\")\n",
        "plt.scatter(train_set[spotted_indices,0], train_set[spotted_indices,1], label=\"spotted\")\n",
        "\n",
        "plt.title(\"Temperature vs. Humidity of Training Data\")\n",
        "plt.xlabel(\"Temperature\", fontsize=20)\n",
        "plt.ylabel(\"Humidity\", fontsize=20)\n",
        "plt.legend()"
      ],
      "execution_count": 4,
      "outputs": [
        {
          "output_type": "execute_result",
          "data": {
            "text/plain": [
              "<matplotlib.legend.Legend at 0x7f95797faa50>"
            ]
          },
          "metadata": {
            "tags": []
          },
          "execution_count": 4
        },
        {
          "output_type": "display_data",
          "data": {
            "image/png": "[encoded data removed]",
            "text/plain": [
              "<Figure size 1080x576 with 1 Axes>"
            ]
          },
          "metadata": {
            "tags": [],
            "needs_background": "light"
          }
        }
      ]
    },
    {
      "cell_type": "markdown",
      "metadata": {
        "id": "l2VoseUu9kQQ"
      },
      "source": [
        "## Bob's Naive Model\n",
        "\n",
        "Start with implementing the [normal distribution](https://en.wikipedia.org/wiki/Normal_distribution) probability density function in the next cell: \n",
        "$$ \\frac{1}{\\sqrt{2\\pi \\sigma^2}} \\cdot e ^{-\\frac{(x - \\mu)^2}{2\\sigma^2}} $$\n",
        "Where :\n",
        "* $\\mu$ is the distribution mean.\n",
        "* $\\sigma$ is the distribution standard deviation."
      ]
    },
    {
      "cell_type": "markdown",
      "metadata": {
        "id": "O_QvA9Y59kQQ"
      },
      "source": [
        "Recall that when using the naive assumption, we assume our features are indepenent given the class. Meaning:\n",
        "$$ P(x_1, x_2 | Y) = p(x_1 | Y) \\cdot p(x_2 | Y)$$\n",
        "\n",
        "\n",
        "Since we assume our features are normally distributed we need to find the mean and std for each feature in order for us to compute those probabilites. Implement the **NaiveNormalClassDistribution** in the next cell and build a distribution object for each class."
      ]
    },
    {
      "cell_type": "code",
      "metadata": {
        "id": "Ir8vCvvu9kQR"
      },
      "source": [
        "def normal_pdf(x, mean, std):\n",
        "    \"\"\"\n",
        "    Calculate normal density function for a given x, mean and standard deviation.\n",
        "\n",
        "    Input:\n",
        "    - x: A value we want to compute the distribution for.\n",
        "    - mean: The mean value of the distribution.\n",
        "    - std:  The standard deviation of the distribution.\n",
        "\n",
        "    Returns the normal distribution pdf according to the given mean and var for the given x.\n",
        "    \"\"\"\n",
        "    return 1 / (std * np.sqrt(2 * np.pi)) * np.exp(- (x - mean) ** 2 / (2 * std ** 2))"
      ],
      "execution_count": 5,
      "outputs": []
    },
    {
      "cell_type": "code",
      "metadata": {
        "id": "4sHXuzPqG3OM"
      },
      "source": [
        "class NaiveNormalClassDistribution():\n",
        "    def __init__(self, dataset, class_value):\n",
        "        \"\"\"\n",
        "        A class which encapsulates the relevant parameters(mean, std) for a class conditional normal distribution.\n",
        "        The mean and std are computed from a given data set.\n",
        "\n",
        "        Input\n",
        "        - dataset: The dataset as a numpy array\n",
        "        - class_value : The class to calculate the parameters for.\n",
        "        \"\"\"\n",
        "        self.class_value = class_value\n",
        "        # only care about instances with this class value\n",
        "        self.original_dataset = dataset\n",
        "        self.dataset = dataset[dataset[:, -1] == self.class_value][:, 0:-1] # everything but the last column (the class)\n",
        "\n",
        "    def get_prior(self):\n",
        "        \"\"\"\n",
        "        Returns the prior porbability of the class according to the dataset distribution.\n",
        "        \"\"\"\n",
        "        return self.dataset.shape[0] / self.original_dataset.shape[0]\n",
        "\n",
        "    def get_instance_likelihood(self, x):\n",
        "        \"\"\"\n",
        "        Returns the likelihhod porbability of the instance under the class according to the dataset distribution.\n",
        "        \"\"\"\n",
        "        mu_hat = self.dataset.mean(axis=0)  # d-dim mean vector\n",
        "        sig_hat = self.dataset.std(axis=0)  # d-dim sigma\n",
        "\n",
        "        prod = 1\n",
        "\n",
        "        for i in range(len(mu_hat)):\n",
        "            prod *= normal_pdf(x[i], mu_hat[i], sig_hat[i])\n",
        "\n",
        "        return prod\n",
        "\n",
        "    def get_instance_posterior(self, x):\n",
        "        \"\"\"\n",
        "        Returns the posterior porbability of the instance under the class according to the dataset distribution.\n",
        "        * Ignoring p(x)\n",
        "        \"\"\"\n",
        "        return self.get_instance_likelihood(x) * self.get_prior()"
      ],
      "execution_count": 6,
      "outputs": []
    },
    {
      "cell_type": "code",
      "metadata": {
        "id": "HmwYe-2a9kQR"
      },
      "source": [
        "# Build a NaiveNormalClassDistribution for each class.\n",
        "naive_normal_CD_0 = NaiveNormalClassDistribution(train_set, 0)\n",
        "naive_normal_CD_1 = NaiveNormalClassDistribution(train_set, 1)"
      ],
      "execution_count": 7,
      "outputs": []
    },
    {
      "cell_type": "markdown",
      "metadata": {
        "id": "JQXJSqvN9kQR"
      },
      "source": [
        "Implement the **MAPClassifier** class and build a MAPClassifier object containing the 2 distribution objects you just made above."
      ]
    },
    {
      "cell_type": "code",
      "metadata": {
        "id": "q4o6k7B_9kQS"
      },
      "source": [
        "class MAPClassifier():\n",
        "    def __init__(self, cd0, cd1):\n",
        "        \"\"\"\n",
        "        A Maximum a posteriori classifier.\n",
        "        This class will hold 2 class distributions, one for class 0 and one for class 1, and will predict an instance\n",
        "        by the class that outputs the highest posterior probability for the given instance.\n",
        "\n",
        "        Input\n",
        "            - ccd0 : An object contating the relevant parameters and methods for the distribution of class 0.\n",
        "            - ccd1 : An object contating the relevant parameters and methods for the distribution of class 1.\n",
        "        \"\"\"\n",
        "        self.cd0 = cd0\n",
        "        self.cd1 = cd1\n",
        "\n",
        "    def predict(self, x):\n",
        "        \"\"\"\n",
        "        Predicts the instance class using the 2 distribution objects given in the object constructor.\n",
        "\n",
        "        Input\n",
        "            - An instance to predict.\n",
        "        Output\n",
        "            - 0 if the posterior probability of class 0 is higher and 1 otherwise.\n",
        "        \"\"\"\n",
        "        return np.argmax([self.cd0.get_instance_posterior(x), self.cd1.get_instance_posterior(x)])"
      ],
      "execution_count": 8,
      "outputs": []
    },
    {
      "cell_type": "code",
      "metadata": {
        "id": "sEKtDToT9kQS"
      },
      "source": [
        "naive_normal_classifier = MAPClassifier(naive_normal_CD_0, naive_normal_CD_1)"
      ],
      "execution_count": 9,
      "outputs": []
    },
    {
      "cell_type": "markdown",
      "metadata": {
        "id": "-Tr96YyZ9kQS"
      },
      "source": [
        "### Evaluate model\n",
        "Implement the **compute_accuracy** function in the next cell. Use it and the 2 distribution objects you created to compute the accuracy on the test set."
      ]
    },
    {
      "cell_type": "code",
      "metadata": {
        "id": "QRAxapJo9kQS"
      },
      "source": [
        "def compute_accuracy(test_set, map_classifier):\n",
        "    \"\"\"\n",
        "    Compute the accuracy of a given a testset using a MAP classifier object.\n",
        "\n",
        "    Input\n",
        "        - testset: The testset for which to compute the accuracy (Numpy array).\n",
        "        - map_classifier : A MAPClassifier object capable of prediciting the class for each instance in the testset.\n",
        "\n",
        "    Ouput\n",
        "        - Accuracy = #Correctly Classified / #testset size\n",
        "    \"\"\"\n",
        "    predictions = np.apply_along_axis(map_classifier.predict, axis=1, arr=test_set)\n",
        "    matching = np.sum(predictions == test_set[:, -1])\n",
        "    return matching/test_set.shape[0]"
      ],
      "execution_count": 10,
      "outputs": []
    },
    {
      "cell_type": "code",
      "metadata": {
        "colab": {
          "base_uri": "https://localhost:8080/"
        },
        "id": "-_Vj9Ej-9kQT",
        "outputId": "635bb274-a92e-4edd-c39c-2183693b71f4"
      },
      "source": [
        "# Compute the naive model accuracy and store it in the naive accuracy variable.\n",
        "naive_accuracy = compute_accuracy(test_set, naive_normal_classifier)\n",
        "naive_accuracy"
      ],
      "execution_count": 11,
      "outputs": [
        {
          "output_type": "execute_result",
          "data": {
            "text/plain": [
              "0.495"
            ]
          },
          "metadata": {
            "tags": []
          },
          "execution_count": 11
        }
      ]
    },
    {
      "cell_type": "markdown",
      "metadata": {
        "id": "5pFeslbf9kQT"
      },
      "source": [
        "## Alice's Full Model\n",
        "\n",
        "Start with Implementing the [multivariate normal](https://en.wikipedia.org/wiki/Multivariate_normal_distribution) distribution probability density function in the next cell.\n",
        "\n",
        "## $$ (2\\pi)^{-\\frac{d}{2}} det(\\Sigma )^{-\\frac{1}{2}} \\cdot e ^{-\\frac{1}{2}(x-\\mu)^T \\Sigma ^ {-1} (x - \\mu) }$$\n",
        "\n",
        "Where : \n",
        "* $\\mu$ is the distribution mean vector. (length 2 in our case)\n",
        "* $\\Sigma$ Is the distribution covarince matrix. (size 2x2 in our case)"
      ]
    },
    {
      "cell_type": "markdown",
      "metadata": {
        "id": "RKYbIQFN9kQT"
      },
      "source": [
        "In the full bayes model we will not make any simplyfing assumptions, meaning, we will use a multivariate normal distribution. <br>\n",
        "And so, we'll need to compute the mean of each feature and to compute the covariance between the features to build the covariance matrix.\n",
        "Implement the **MultiNormalClassDistribution** and build a distribution object for each class."
      ]
    },
    {
      "cell_type": "code",
      "metadata": {
        "id": "ZbGDpCF7_6Fx"
      },
      "source": [
        "# NOTE - code referenceed from https://stackoverflow.com/questions/11615664/multivariate-normal-density-in-python\n",
        "\n",
        "def multi_normal_pdf(x, mean, cov):\n",
        "    \"\"\"\n",
        "    Calculate multi variable normal density function for a given x, mean and covarince matrix.\n",
        "\n",
        "    Input:\n",
        "    - x: A value we want to compute the distribution for.\n",
        "    - mean: The mean value of the distribution.\n",
        "    - std:  The standard deviation of the distribution.\n",
        "\n",
        "    Returns the normal distribution pdf according to the given mean and var for the given x.\n",
        "    \"\"\"\n",
        "    det = np.linalg.det(cov)\n",
        "    d = float(x.shape[0] - 1)  # omit class\n",
        "    norm_const = 1.0 / (np.power((2 * np.pi), d / 2) * np.power(det, 1.0 / 2))\n",
        "    x_mean = np.matrix(x - mean)\n",
        "    inv = np.linalg.inv(cov)\n",
        "    return np.power(np.e, -0.5 * (x_mean * inv * x_mean.T)) * norm_const"
      ],
      "execution_count": 12,
      "outputs": []
    },
    {
      "cell_type": "code",
      "metadata": {
        "id": "Y_zLDRnA9kQT"
      },
      "source": [
        "class MultiNormalClassDistribution():\n",
        "    def __init__(self, dataset, class_value):\n",
        "        \"\"\"\n",
        "        A class which encapsulate the relevant parameters(mean, cov matrix) for a class conditinoal multi normal distribution.\n",
        "        The mean and cov matrix (You can use np.cov for this!) will be computed from a given data set.\n",
        "\n",
        "        Input\n",
        "        - dataset: The dataset as a numpy array\n",
        "        - class_value : The class to calculate the parameters for.\n",
        "        \"\"\"\n",
        "        self.class_value = class_value\n",
        "        self.original_dataset_length = dataset.shape[0]\n",
        "        self.dataset = dataset[dataset[:, -1] == self.class_value][:, 0:-1] # everything but the last column (the class)\n",
        "\n",
        "    def get_prior(self):\n",
        "        \"\"\"\n",
        "        Returns the prior porbability of the class according to the dataset distribution.\n",
        "        \"\"\"\n",
        "        return self.dataset.shape[0] / self.original_dataset_length\n",
        "\n",
        "    def get_instance_likelihood(self, x):\n",
        "        \"\"\"\n",
        "        Returns the likelihood of the instance under the class according to the dataset distribution.\n",
        "        \"\"\"\n",
        "        mu_hat = self.dataset.mean(axis=0)  # d-dim mean vector\n",
        "        covariance_matrix = np.cov(self.dataset.T)\n",
        "        return multi_normal_pdf(x[:-1], mu_hat, covariance_matrix)\n",
        "\n",
        "    def get_instance_posterior(self, x):\n",
        "        \"\"\"\n",
        "        Returns the posterior porbability of the instance under the class according to the dataset distribution.\n",
        "        * Ignoring p(x)\n",
        "        \"\"\"\n",
        "        return self.get_instance_likelihood(x) * self.get_prior()"
      ],
      "execution_count": 13,
      "outputs": []
    },
    {
      "cell_type": "code",
      "metadata": {
        "id": "vNTSdZCW9kQU"
      },
      "source": [
        "# Build a MultiNormalClassDistribution for each class.\n",
        "multi_normal_CD_0 = MultiNormalClassDistribution(train_set, 0)\n",
        "multi_normal_CD_1 = MultiNormalClassDistribution(train_set, 1)"
      ],
      "execution_count": 14,
      "outputs": []
    },
    {
      "cell_type": "markdown",
      "metadata": {
        "id": "2TS6Xf-B9kQU"
      },
      "source": [
        "build a MAPClassifier object contating the 2 distribution objects you just made above."
      ]
    },
    {
      "cell_type": "code",
      "metadata": {
        "id": "KLzimNPI9kQU"
      },
      "source": [
        "multi_normal_classifier = MAPClassifier(multi_normal_CD_0, multi_normal_CD_1)"
      ],
      "execution_count": 15,
      "outputs": []
    },
    {
      "cell_type": "markdown",
      "metadata": {
        "id": "tvjIMM3H9kQU"
      },
      "source": [
        "### Evaluate model\n",
        "Use the **compute_accuracy** function and the 2 distribution objects you created to compute the accuracy on the test set."
      ]
    },
    {
      "cell_type": "code",
      "metadata": {
        "id": "qaqpsJ7W9kQU",
        "colab": {
          "base_uri": "https://localhost:8080/"
        },
        "outputId": "ca2c2801-d086-49a5-ba3c-2716617ce4cd"
      },
      "source": [
        "# Compute the full model accuracy and store it in the full accuracy variable.\n",
        "full_accuracy = compute_accuracy(test_set, multi_normal_classifier)\n",
        "full_accuracy"
      ],
      "execution_count": 16,
      "outputs": [
        {
          "output_type": "execute_result",
          "data": {
            "text/plain": [
              "0.7975"
            ]
          },
          "metadata": {
            "tags": []
          },
          "execution_count": 16
        }
      ]
    },
    {
      "cell_type": "markdown",
      "metadata": {
        "id": "WeDK0UDw9kQV"
      },
      "source": [
        "## Results"
      ]
    },
    {
      "cell_type": "markdown",
      "metadata": {
        "id": "CrqpDUw69kQV"
      },
      "source": [
        "Use a plot bar to showcase the models accuracy."
      ]
    },
    {
      "cell_type": "code",
      "metadata": {
        "id": "lRlOvRv39kQV",
        "colab": {
          "base_uri": "https://localhost:8080/",
          "height": 298
        },
        "outputId": "81c6189b-6fb1-4cf5-caae-5ba851139583"
      },
      "source": [
        "# Bar plot of accuracy of each model side by side.\n",
        "plt.bar(x=['Naive', 'Full'], height=[naive_accuracy, full_accuracy])\n",
        "plt.title(\"Naive vs Full accuracy comparison\")\n",
        "plt.ylabel(\"Accuracy\")"
      ],
      "execution_count": 17,
      "outputs": [
        {
          "output_type": "execute_result",
          "data": {
            "text/plain": [
              "Text(0, 0.5, 'Accuracy')"
            ]
          },
          "metadata": {
            "tags": []
          },
          "execution_count": 17
        },
        {
          "output_type": "display_data",
          "data": {
            "image/png": "[encoded data removed]",
            "text/plain": [
              "<Figure size 432x288 with 1 Axes>"
            ]
          },
          "metadata": {
            "tags": [],
            "needs_background": "light"
          }
        }
      ]
    },
    {
      "cell_type": "markdown",
      "metadata": {
        "id": "u84jj7CX9kQV"
      },
      "source": [
        "# Comparing Max a posteriori, prior, and likelihood results"
      ]
    },
    {
      "cell_type": "markdown",
      "metadata": {
        "id": "5-fjSoiG9kQV"
      },
      "source": [
        "For each of the classifiers above (naive Bayes and full Bayes, in which we compare posterior probabilities), we explore how classifiers would perform if we compare (1) only prior probabilities or (2) only likelihoods. \n",
        "\n",
        "In this section, you will implement MaxPrior and MaxLikelihood classifiers similarly to MAPClassifier, and then graph the performance of the three models (MAP, MaxPrior, and MaxLikelihood) for each of the examples of above (naive Bayes and full Bayes).\n",
        "\n",
        "For example, your graph can have accuracy as the y-axis, \"MaxPrior\", \"MaxLikelihood\", and \"MAP\" as the x-axis values, and at each x-value, there will be two bars - one for the naive Bayes, and one for the full Bayes.  \n",
        "\n",
        "Other graphs (that make sense / are intuitive) will be accepted as well."
      ]
    },
    {
      "cell_type": "markdown",
      "metadata": {
        "id": "EKeEW1nX9kQV"
      },
      "source": [
        "Implement the **MaxPrior** class and build a MaxPrior object like you did above with the **MAPClassifier**."
      ]
    },
    {
      "cell_type": "code",
      "metadata": {
        "id": "uwp3KfFk9kQW"
      },
      "source": [
        "class MaxPrior():\n",
        "    def __init__(self, cd0 , cd1):\n",
        "        \"\"\"\n",
        "        A Maximum prior classifier. \n",
        "        This class will hold 2 class distributions, one for class 0 and one for class 1, and will predicit an instance\n",
        "        by the class that outputs the highest prior probability for the given instance.\n",
        "    \n",
        "        Input\n",
        "            - ccd0 : An object contating the relevant parameters and methods for the distribution of class 0.\n",
        "            - ccd1 : An object contating the relevant parameters and methods for the distribution of class 1.\n",
        "        \"\"\"\n",
        "        self.cd0 = cd0\n",
        "        self.cd1 = cd1\n",
        "    \n",
        "    def predict(self, x):\n",
        "        \"\"\"\n",
        "        Predicts the instance class using the 2 distribution objects given in the object constructor.\n",
        "    \n",
        "        Input\n",
        "            - An instance to predict.\n",
        "        Output\n",
        "            - 0 if the posterior probability of class 0 is higher and 1 otherwise.\n",
        "        \"\"\"\n",
        "        return np.argmax([self.cd0.get_prior(), self.cd1.get_prior()])"
      ],
      "execution_count": 18,
      "outputs": []
    },
    {
      "cell_type": "markdown",
      "metadata": {
        "id": "IGcsIJBR9kQW"
      },
      "source": [
        "Implement the **MaxLikelihood** class and build a MaxLikelihood object like you did above with the **MAPClassifier**."
      ]
    },
    {
      "cell_type": "code",
      "metadata": {
        "id": "ZI1Xu1pg9kQW"
      },
      "source": [
        "class MaxLikelihood():\n",
        "    def __init__(self, cd0 , cd1):\n",
        "        \"\"\"\n",
        "        A Maximum Likelihood classifier. \n",
        "        This class will hold 2 class distributions, one for class 0 and one for class 1, and will predicit an instance\n",
        "        by the class that outputs the highest likelihood probability for the given instance.\n",
        "    \n",
        "        Input\n",
        "            - ccd0 : An object contating the relevant parameters and methods for the distribution of class 0.\n",
        "            - ccd1 : An object contating the relevant parameters and methods for the distribution of class 1.\n",
        "        \"\"\"\n",
        "        self.cd0 = cd0\n",
        "        self.cd1 = cd1\n",
        "    \n",
        "    def predict(self, x):\n",
        "        \"\"\"\n",
        "        Predicts the instance class using the 2 distribution objects given in the object constructor.\n",
        "    \n",
        "        Input\n",
        "            - An instance to predict.\n",
        "        Output\n",
        "            - 0 if the posterior probability of class 0 is higher and 1 otherwise.\n",
        "        \"\"\"\n",
        "        return np.argmax([self.cd0.get_instance_likelihood(x), self.cd1.get_instance_likelihood(x)])"
      ],
      "execution_count": 19,
      "outputs": []
    },
    {
      "cell_type": "markdown",
      "metadata": {
        "id": "1U-p40Wc9kQW"
      },
      "source": [
        "### Run and evaluate the models"
      ]
    },
    {
      "cell_type": "markdown",
      "metadata": {
        "id": "cjijQN839kQW"
      },
      "source": [
        "Repeat the process you did for the MAPClassifier, now for the MaxPrior and MaxLikelihood classifiers:\n",
        "1. Feed the naive_normal distributions and the multi_normal distributions you made for each class into the new models you made in this section\n",
        "2. Evaluate the accuracies\n",
        "3. Plot the results as described in the beginning of this section"
      ]
    },
    {
      "cell_type": "code",
      "metadata": {
        "id": "YxCmp1MsNfxH"
      },
      "source": [
        "naive_normal_prior_classifier = MaxPrior(naive_normal_CD_0, naive_normal_CD_1)"
      ],
      "execution_count": 20,
      "outputs": []
    },
    {
      "cell_type": "code",
      "metadata": {
        "id": "_o3nOEIiKqyl"
      },
      "source": [
        "multi_normal_prior_classifier = MaxPrior(multi_normal_CD_0, multi_normal_CD_1)"
      ],
      "execution_count": 21,
      "outputs": []
    },
    {
      "cell_type": "code",
      "metadata": {
        "id": "GU5Dmjh1OcBn"
      },
      "source": [
        "naive_normal_likelihood_classifier = MaxLikelihood(naive_normal_CD_0, naive_normal_CD_1)"
      ],
      "execution_count": 22,
      "outputs": []
    },
    {
      "cell_type": "code",
      "metadata": {
        "id": "LQ5Y19jgOcBp"
      },
      "source": [
        "multi_normal_likelihood_classifier = MaxLikelihood(multi_normal_CD_0, multi_normal_CD_1)"
      ],
      "execution_count": 23,
      "outputs": []
    },
    {
      "cell_type": "code",
      "metadata": {
        "colab": {
          "base_uri": "https://localhost:8080/"
        },
        "id": "kOuvRYm4NoIm",
        "outputId": "8b2d9510-740e-4071-9873-5a1e8a851bf4"
      },
      "source": [
        "naive_prior_accuracy = compute_accuracy(test_set, naive_normal_prior_classifier)\n",
        "naive_prior_accuracy"
      ],
      "execution_count": 24,
      "outputs": [
        {
          "output_type": "execute_result",
          "data": {
            "text/plain": [
              "0.49"
            ]
          },
          "metadata": {
            "tags": []
          },
          "execution_count": 24
        }
      ]
    },
    {
      "cell_type": "code",
      "metadata": {
        "colab": {
          "base_uri": "https://localhost:8080/"
        },
        "id": "jm2sodPBKuDt",
        "outputId": "0546a045-0d55-4633-f517-b7dfd2063f12"
      },
      "source": [
        "full_prior_accuracy = compute_accuracy(test_set, multi_normal_prior_classifier)\n",
        "full_prior_accuracy"
      ],
      "execution_count": 25,
      "outputs": [
        {
          "output_type": "execute_result",
          "data": {
            "text/plain": [
              "0.49"
            ]
          },
          "metadata": {
            "tags": []
          },
          "execution_count": 25
        }
      ]
    },
    {
      "cell_type": "code",
      "metadata": {
        "colab": {
          "base_uri": "https://localhost:8080/"
        },
        "id": "GFTsZjFuOcBp",
        "outputId": "b092f65b-cee0-414b-bc86-96d3812b9046"
      },
      "source": [
        "naive_likelihood_accuracy = compute_accuracy(test_set, naive_normal_likelihood_classifier)\n",
        "naive_likelihood_accuracy"
      ],
      "execution_count": 26,
      "outputs": [
        {
          "output_type": "execute_result",
          "data": {
            "text/plain": [
              "0.4975"
            ]
          },
          "metadata": {
            "tags": []
          },
          "execution_count": 26
        }
      ]
    },
    {
      "cell_type": "code",
      "metadata": {
        "colab": {
          "base_uri": "https://localhost:8080/"
        },
        "id": "uewLKO2qOcBq",
        "outputId": "5f50165d-8b56-474e-8b9b-9527bafa41b9"
      },
      "source": [
        "full_likelihood_accuracy = compute_accuracy(test_set, multi_normal_likelihood_classifier)\n",
        "full_likelihood_accuracy"
      ],
      "execution_count": 27,
      "outputs": [
        {
          "output_type": "execute_result",
          "data": {
            "text/plain": [
              "0.795"
            ]
          },
          "metadata": {
            "tags": []
          },
          "execution_count": 27
        }
      ]
    },
    {
      "cell_type": "code",
      "metadata": {
        "colab": {
          "base_uri": "https://localhost:8080/",
          "height": 281
        },
        "id": "SpfyWi9gVPxx",
        "outputId": "cb272d5a-475d-4918-e75c-fac2fedc891a"
      },
      "source": [
        "X = ['MAP', 'MaxPrior', 'MaxLikelihood']\n",
        "naive_accuracies = [naive_accuracy, naive_prior_accuracy, naive_likelihood_accuracy]\n",
        "full_accuracies = [full_accuracy, full_prior_accuracy, full_likelihood_accuracy]\n",
        "  \n",
        "X_axis = np.arange(len(X))\n",
        "  \n",
        "plt.bar(X_axis - 0.2, naive_accuracies, 0.4, label = 'Naive Bayes')\n",
        "plt.bar(X_axis + 0.2, full_accuracies, 0.4, label = 'Full Bayes')\n",
        "  \n",
        "plt.xticks(X_axis, X)\n",
        "plt.ylabel(\"Accuracy\")\n",
        "plt.title(\"Naive vs Full accuracy comparison\")\n",
        "plt.legend()\n",
        "plt.show()"
      ],
      "execution_count": 28,
      "outputs": [
        {
          "output_type": "display_data",
          "data": {
            "image/png": "[encoded data removed]",
            "text/plain": [
              "<Figure size 432x288 with 1 Axes>"
            ]
          },
          "metadata": {
            "tags": [],
            "needs_background": "light"
          }
        }
      ]
    },
    {
      "cell_type": "code",
      "metadata": {
        "colab": {
          "base_uri": "https://localhost:8080/"
        },
        "id": "GZTt0udVj5Mk",
        "outputId": "871b6630-c15d-4361-9067-d117b788dd03"
      },
      "source": [
        "print(naive_prior_accuracy)\n",
        "print(naive_likelihood_accuracy)\n",
        "print(naive_accuracy)\n",
        "\n",
        "print(full_prior_accuracy)\n",
        "print(full_likelihood_accuracy)\n",
        "print(full_accuracy)"
      ],
      "execution_count": 29,
      "outputs": [
        {
          "output_type": "stream",
          "text": [
            "0.49\n",
            "0.4975\n",
            "0.495\n",
            "0.49\n",
            "0.795\n",
            "0.7975\n"
          ],
          "name": "stdout"
        }
      ]
    },
    {
      "cell_type": "markdown",
      "metadata": {
        "id": "x5iFDDZE9kQX"
      },
      "source": [
        "# Discrete Naive Bayes Classifier "
      ]
    },
    {
      "cell_type": "markdown",
      "metadata": {
        "id": "PORsQmsc9kQX"
      },
      "source": [
        "We will now build a discrete naive Bayes based classifier using **Laplace** smoothing.\n",
        "In the recitation, we saw how to compute the probability for each attribute value under each class:"
      ]
    },
    {
      "cell_type": "markdown",
      "metadata": {
        "id": "A2pELPmu9kQX"
      },
      "source": [
        "$$ P(x_j | A_i) = \\frac{n_{ij} + 1}{n_i + |V_j|} $$\n",
        "Where:\n",
        "* $n_{ij}$ The number of training instances with the class $A_i$ and the value $x_j$ in the relevant attribute.\n",
        "* $n_i$ The number of training instances with the class $A_i$\n",
        "* $|V_j|$ The number of possible values of the relevant attribute.\n",
        "\n",
        "In order to compute the likelihood we assume:\n",
        "$$ P(x| A_i) = \\prod\\limits_{j=1}^{n}P(x_j|A_i) $$\n",
        "\n",
        "And to classify an instance we will choose : \n",
        "$$\\arg\\!\\max\\limits_{i} P(A_i) \\cdot P(x | A_i)$$\n"
      ]
    },
    {
      "cell_type": "markdown",
      "metadata": {
        "id": "t6ZKL5rO9kQX"
      },
      "source": [
        "## Data\n",
        "We will try to predict breast cancer again only this time from a different dataset, \n",
        "<br> you can read about the dataset here : [Breast Cancer Dataset](https://archive.ics.uci.edu/ml/datasets/breast+cancer)<br>\n",
        "Load the training set and test set provided for you in the data folder.\n",
        " - breast_trainset.csv\n",
        " - breast_testset.csv\n",
        " "
      ]
    },
    {
      "cell_type": "code",
      "metadata": {
        "id": "j2iLdiJM9kQY"
      },
      "source": [
        "# Load the train and test set into a pandas dataframe and convert them into a numpy array.\n",
        "train_set = pd.read_csv('data/breast_trainset.csv').values\n",
        "test_set = pd.read_csv('data/breast_testset.csv').values"
      ],
      "execution_count": 30,
      "outputs": []
    },
    {
      "cell_type": "markdown",
      "metadata": {
        "id": "s2OsT9p99kQY"
      },
      "source": [
        "## Build A Discrete Naive Bayes Distribution for each class\n",
        "Implement the **DiscreteNBClassDistribution** in the next cell and build a distribution object for each class."
      ]
    },
    {
      "cell_type": "code",
      "metadata": {
        "id": "qEtk-eq9DOml"
      },
      "source": [
        "# Helper function\n",
        "\n",
        "def get_unique_values_and_counts_per_feature(dataset):\n",
        "    \"\"\"\n",
        "    Returns the number of possible values per attribute's index in original dataset\n",
        "    :param dataset: The dataset as a numpy array\n",
        "    \"\"\"\n",
        "    all_features_dataset = dataset[:,:-1]\n",
        "    unique_values_per_feature = [np.unique(all_features_dataset[:, i]) for i in range(all_features_dataset.shape[1])]\n",
        "    unique_values_count_per_feature = [len(v) for v in unique_values_per_feature]\n",
        "\n",
        "    return unique_values_count_per_feature"
      ],
      "execution_count": 31,
      "outputs": []
    },
    {
      "cell_type": "code",
      "metadata": {
        "id": "9oPU6AAx9kQY"
      },
      "source": [
        "class DiscreteNBClassDistribution():\n",
        "    def __init__(self, dataset, class_value):\n",
        "        \"\"\"\n",
        "        A class which computes and encapsulate the relevant probabilities for a discrete naive bayes\n",
        "        distribution for a specific class. The probabilities are computed with Laplace smoothing.\n",
        "\n",
        "        Input\n",
        "        - dataset: The dataset as a numpy array.\n",
        "        - class_value: Compute the relevant parameters only for instances from the given class.\n",
        "        \"\"\"\n",
        "        self.class_value = class_value\n",
        "        self.original_dataset_length = dataset.shape[0]\n",
        "        self.v_j = get_unique_values_and_counts_per_feature(dataset)  # The number of possible values per attribute's index in original dataset\n",
        "        self.dataset = dataset[dataset[:, -1] == self.class_value][:, 0:-1]  # Everything but the last column (the class)\n",
        "        self.n_i = self.dataset.shape[0]  # The number of training instances with the class A_i\n",
        "\n",
        "    def get_prior(self):\n",
        "        \"\"\"\n",
        "        Returns the prior probability of the class according to the dataset distribution.\n",
        "        \"\"\"\n",
        "        return self.n_i / self.original_dataset_length\n",
        "\n",
        "    def get_instance_likelihood(self, x):\n",
        "        \"\"\"\n",
        "        Returns the likelihood of the instance under the class according to the dataset distribution.\n",
        "        \"\"\"\n",
        "        prod = 1\n",
        "\n",
        "        for i in range(len(x) - 1): # -1 for not looking at the class column\n",
        "            n_i_j = self.dataset[self.dataset[:, i] == x[i]].shape[0]\n",
        "            prod *= (n_i_j + 1) / (self.n_i + self.v_j[i])\n",
        "\n",
        "        return prod\n",
        "\n",
        "    def get_instance_posterior(self, x):\n",
        "        \"\"\"\n",
        "        Returns the posterior probability of the instance under the class according to the dataset distribution.\n",
        "        * Ignoring p(x)\n",
        "        \"\"\"\n",
        "        return self.get_instance_likelihood(x) * self.get_prior()"
      ],
      "execution_count": 32,
      "outputs": []
    },
    {
      "cell_type": "code",
      "metadata": {
        "id": "dSi1NYOz9kQY"
      },
      "source": [
        "discrete_naive_CD_0 = DiscreteNBClassDistribution(train_set, 0)\n",
        "discrete_naive_CD_1 = DiscreteNBClassDistribution(train_set, 1)"
      ],
      "execution_count": 33,
      "outputs": []
    },
    {
      "cell_type": "markdown",
      "metadata": {
        "id": "oFozp9zw9kQY"
      },
      "source": [
        "build a MAPClassifier object contating the 2 distribution objects you just made above."
      ]
    },
    {
      "cell_type": "code",
      "metadata": {
        "id": "tSswIq_R9kQY"
      },
      "source": [
        "discrete_naive_classifier = MAPClassifier(discrete_naive_CD_0, discrete_naive_CD_1)"
      ],
      "execution_count": 34,
      "outputs": []
    },
    {
      "cell_type": "markdown",
      "metadata": {
        "id": "QkjK4_XD9kQZ"
      },
      "source": [
        "Use the **compute_accuracy** function and the 2 distribution objects you created to compute the accuracy on the test set."
      ]
    },
    {
      "cell_type": "code",
      "metadata": {
        "id": "_VqPr3sk9kQZ",
        "colab": {
          "base_uri": "https://localhost:8080/"
        },
        "outputId": "7052d014-5914-4bea-bbf0-cc275cd11085"
      },
      "source": [
        "compute_accuracy(test_set, discrete_naive_classifier)"
      ],
      "execution_count": 35,
      "outputs": [
        {
          "output_type": "execute_result",
          "data": {
            "text/plain": [
              "0.7368421052631579"
            ]
          },
          "metadata": {
            "tags": []
          },
          "execution_count": 35
        }
      ]
    }
  ]
}